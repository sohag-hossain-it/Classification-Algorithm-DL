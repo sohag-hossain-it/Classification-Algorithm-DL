{
  "nbformat": 4,
  "nbformat_minor": 0,
  "metadata": {
    "colab": {
      "name": "ResNet.ipynb",
      "provenance": [],
      "collapsed_sections": []
    },
    "kernelspec": {
      "name": "python3",
      "display_name": "Python 3"
    }
  },
  "cells": [
    {
      "cell_type": "code",
      "metadata": {
        "id": "5T2b9hR-eELq"
      },
      "source": [
        "#https://www.learnopencv.com/cnn-fully-convolutional-image-classification-with-tensorflow/\n",
        "#https://www.youtube.com/watch?v=glmowUlqoYw&list=PLv8Cp2NvcY8DpVcsmOT71kymgMmcr59Mf&index=9&ab_channel=CodeWithAarohi\n",
        "#https://pylessons.com/Keras-ResNet-tutorial/\n",
        "#https://datascience-enthusiast.com/DL/Residual_Networks_v2.html\n",
        "#https://cv-tricks.com/keras/understand-implement-resnets/\n",
        "#https://codereview.stackexchange.com/questions/213371/a-simple-toy-resnet-model-and-its-implementation\n",
        "#https://www.youtube.com/watch?v=6rXY1usgHcw&ab_channel=peacewazbd(zakir naik)\n",
        "\n",
        "\n",
        "##############################################################################################\n",
        "#in normal network we learn from Y but in Residual Network we learn from f(x) and our target \n",
        "#is to make f(x)=0 then only we can make input=output\n",
        "##############################################################################################"
      ],
      "execution_count": null,
      "outputs": []
    },
    {
      "cell_type": "code",
      "metadata": {
        "colab": {
          "base_uri": "https://localhost:8080/"
        },
        "id": "RuTBNR595KrL",
        "outputId": "2443b3f9-2364-4ec1-e568-f9c414c0c44a"
      },
      "source": [
        "#the outermost dimension have 4 arrays that contains 3 arrays, each with 5 elements\n",
        "c=np.zeros((4,3,5))\n",
        "c"
      ],
      "execution_count": null,
      "outputs": [
        {
          "output_type": "execute_result",
          "data": {
            "text/plain": [
              "array([[[0., 0., 0., 0., 0.],\n",
              "        [0., 0., 0., 0., 0.],\n",
              "        [0., 0., 0., 0., 0.]],\n",
              "\n",
              "       [[0., 0., 0., 0., 0.],\n",
              "        [0., 0., 0., 0., 0.],\n",
              "        [0., 0., 0., 0., 0.]],\n",
              "\n",
              "       [[0., 0., 0., 0., 0.],\n",
              "        [0., 0., 0., 0., 0.],\n",
              "        [0., 0., 0., 0., 0.]],\n",
              "\n",
              "       [[0., 0., 0., 0., 0.],\n",
              "        [0., 0., 0., 0., 0.],\n",
              "        [0., 0., 0., 0., 0.]]])"
            ]
          },
          "metadata": {
            "tags": []
          },
          "execution_count": 3
        }
      ]
    },
    {
      "cell_type": "code",
      "metadata": {
        "id": "MwBxiFph5ATT"
      },
      "source": [
        "########################def read_image(file_path):\n",
        "  #cv2.IMREAD_COLOR: It specifies to load a color image\n",
        "  #cv2.imread() method loads an image from the specified file.\n",
        "  ###########################img=cv2.imread(file_path,cv2.IMREAD_COLOR)\n",
        "  #https://www.tutorialkart.com/opencv/python/opencv-python-resize-image/\n",
        "  #(rows,cols) means desired size for the output image\n",
        "  #interpolation=cv2.INTER_CUBIC: [optional] flag that interpolation over 8×8 pixel neighborhood\n",
        "  ######################return cv2.resize(img,(rows,cols),interpolation=cv2.INTER_CUBIC)"
      ],
      "execution_count": null,
      "outputs": []
    },
    {
      "cell_type": "code",
      "metadata": {
        "colab": {
          "base_uri": "https://localhost:8080/"
        },
        "id": "r2y77nLh5AXj",
        "outputId": "8045f99c-7184-4023-8bb3-2476cf2ace7f"
      },
      "source": [
        "#2: 2 times the outermost dimension have 3 arrays that contains 4 arrays, each with 5 elements\n",
        "c=np.zeros((2,3,4,5))\n",
        "#print(c)\n",
        "c[1,:]=1\n",
        "c"
      ],
      "execution_count": null,
      "outputs": [
        {
          "output_type": "execute_result",
          "data": {
            "text/plain": [
              "array([[[[0., 0., 0., 0., 0.],\n",
              "         [0., 0., 0., 0., 0.],\n",
              "         [0., 0., 0., 0., 0.],\n",
              "         [0., 0., 0., 0., 0.]],\n",
              "\n",
              "        [[0., 0., 0., 0., 0.],\n",
              "         [0., 0., 0., 0., 0.],\n",
              "         [0., 0., 0., 0., 0.],\n",
              "         [0., 0., 0., 0., 0.]],\n",
              "\n",
              "        [[0., 0., 0., 0., 0.],\n",
              "         [0., 0., 0., 0., 0.],\n",
              "         [0., 0., 0., 0., 0.],\n",
              "         [0., 0., 0., 0., 0.]]],\n",
              "\n",
              "\n",
              "       [[[1., 1., 1., 1., 1.],\n",
              "         [1., 1., 1., 1., 1.],\n",
              "         [1., 1., 1., 1., 1.],\n",
              "         [1., 1., 1., 1., 1.]],\n",
              "\n",
              "        [[1., 1., 1., 1., 1.],\n",
              "         [1., 1., 1., 1., 1.],\n",
              "         [1., 1., 1., 1., 1.],\n",
              "         [1., 1., 1., 1., 1.]],\n",
              "\n",
              "        [[1., 1., 1., 1., 1.],\n",
              "         [1., 1., 1., 1., 1.],\n",
              "         [1., 1., 1., 1., 1.],\n",
              "         [1., 1., 1., 1., 1.]]]])"
            ]
          },
          "metadata": {
            "tags": []
          },
          "execution_count": 4
        }
      ]
    },
    {
      "cell_type": "code",
      "metadata": {
        "id": "VO7oQXmI5KuD",
        "colab": {
          "base_uri": "https://localhost:8080/"
        },
        "outputId": "c4b39c99-2810-4207-93fa-23c069c5cd03"
      },
      "source": [
        "c=np.zeros((1,1,13))#or c=np.zeros((1,13))\n",
        "c"
      ],
      "execution_count": null,
      "outputs": [
        {
          "output_type": "execute_result",
          "data": {
            "text/plain": [
              "array([[[0., 0., 0., 0., 0., 0., 0., 0., 0., 0., 0., 0., 0.]]])"
            ]
          },
          "metadata": {
            "tags": []
          },
          "execution_count": 5
        }
      ]
    },
    {
      "cell_type": "code",
      "metadata": {
        "colab": {
          "base_uri": "https://localhost:8080/"
        },
        "id": "XQQfFmfBee5g",
        "outputId": "d7ca6fce-5b6c-417e-fafb-8053bd26c573"
      },
      "source": [
        "a=np.zeros((3,3))\n",
        "a[1,:]=3\n",
        "a"
      ],
      "execution_count": null,
      "outputs": [
        {
          "output_type": "execute_result",
          "data": {
            "text/plain": [
              "array([[0., 0., 0.],\n",
              "       [3., 3., 3.],\n",
              "       [0., 0., 0.]])"
            ]
          },
          "metadata": {
            "tags": []
          },
          "execution_count": 6
        }
      ]
    },
    {
      "cell_type": "code",
      "metadata": {
        "colab": {
          "base_uri": "https://localhost:8080/"
        },
        "id": "mfIfWpPOf33O",
        "outputId": "edf63404-d869-4a00-ec6e-4602fe4bf4f8"
      },
      "source": [
        "a[1,1]"
      ],
      "execution_count": null,
      "outputs": [
        {
          "output_type": "execute_result",
          "data": {
            "text/plain": [
              "3.0"
            ]
          },
          "metadata": {
            "tags": []
          },
          "execution_count": 7
        }
      ]
    },
    {
      "cell_type": "code",
      "metadata": {
        "colab": {
          "base_uri": "https://localhost:8080/"
        },
        "id": "j4HWlEnQh09T",
        "outputId": "1c6ab74e-21c5-496f-87a0-c443abd798f7"
      },
      "source": [
        "a=np.zeros((1,5))\n",
        "a"
      ],
      "execution_count": null,
      "outputs": [
        {
          "output_type": "execute_result",
          "data": {
            "text/plain": [
              "array([[0., 0., 0., 0., 0.]])"
            ]
          },
          "metadata": {
            "tags": []
          },
          "execution_count": 8
        }
      ]
    },
    {
      "cell_type": "code",
      "metadata": {
        "id": "fr3GSrho5Kw2",
        "colab": {
          "base_uri": "https://localhost:8080/"
        },
        "outputId": "af343c46-ed9b-4fd7-c273-09c3a54be9ad"
      },
      "source": [
        "#this is how enumerate works\n",
        "x = ('apple', 'banana', 'cherry')\n",
        "y = enumerate(x)\n",
        "\n",
        "print(list(y))"
      ],
      "execution_count": null,
      "outputs": [
        {
          "output_type": "stream",
          "text": [
            "[(0, 'apple'), (1, 'banana'), (2, 'cherry')]\n"
          ],
          "name": "stdout"
        }
      ]
    },
    {
      "cell_type": "code",
      "metadata": {
        "id": "6FlgIWG6yEW0"
      },
      "source": [
        "train_dir='/ResNet/MyDrive/cats_and_dogs_filtered/train/cats/'\n",
        "test_dir='/ResNet/MyDrive/cats_and_dogs_filtered/validation/'"
      ],
      "execution_count": null,
      "outputs": []
    },
    {
      "cell_type": "code",
      "metadata": {
        "colab": {
          "base_uri": "https://localhost:8080/"
        },
        "id": "fjbDKVp3oN9G",
        "outputId": "7aed10a8-1206-497c-be8a-c1b2c7a189cc"
      },
      "source": [
        "##this is how enumerate works in mydrive dataset\n",
        "c=0\n",
        "for j, image_file in enumerate(train_dir+i for i in os.listdir(train_dir)):\n",
        "  print(j)\n",
        "  print(image_file)\n",
        "  c=c+1\n",
        "  if(c>3):\n",
        "    break\n"
      ],
      "execution_count": null,
      "outputs": [
        {
          "output_type": "stream",
          "text": [
            "0\n",
            "/ResNet/MyDrive/cats_and_dogs_filtered/train/cats/cat.100.jpg\n",
            "1\n",
            "/ResNet/MyDrive/cats_and_dogs_filtered/train/cats/cat.0.jpg\n",
            "2\n",
            "/ResNet/MyDrive/cats_and_dogs_filtered/train/cats/cat.10.jpg\n",
            "3\n",
            "/ResNet/MyDrive/cats_and_dogs_filtered/train/cats/cat.1.jpg\n"
          ],
          "name": "stdout"
        }
      ]
    },
    {
      "cell_type": "code",
      "metadata": {
        "colab": {
          "base_uri": "https://localhost:8080/"
        },
        "id": "U3tG__ANoOAG",
        "outputId": "94be9a19-bb16-455f-8d40-630aec6da620"
      },
      "source": [
        "X=np.zeros((2,rows,cols,channels),dtype=np.uint8)\n",
        "X"
      ],
      "execution_count": null,
      "outputs": [
        {
          "output_type": "execute_result",
          "data": {
            "text/plain": [
              "array([[[[0, 0, 0],\n",
              "         [0, 0, 0],\n",
              "         [0, 0, 0],\n",
              "         ...,\n",
              "         [0, 0, 0],\n",
              "         [0, 0, 0],\n",
              "         [0, 0, 0]],\n",
              "\n",
              "        [[0, 0, 0],\n",
              "         [0, 0, 0],\n",
              "         [0, 0, 0],\n",
              "         ...,\n",
              "         [0, 0, 0],\n",
              "         [0, 0, 0],\n",
              "         [0, 0, 0]],\n",
              "\n",
              "        [[0, 0, 0],\n",
              "         [0, 0, 0],\n",
              "         [0, 0, 0],\n",
              "         ...,\n",
              "         [0, 0, 0],\n",
              "         [0, 0, 0],\n",
              "         [0, 0, 0]],\n",
              "\n",
              "        ...,\n",
              "\n",
              "        [[0, 0, 0],\n",
              "         [0, 0, 0],\n",
              "         [0, 0, 0],\n",
              "         ...,\n",
              "         [0, 0, 0],\n",
              "         [0, 0, 0],\n",
              "         [0, 0, 0]],\n",
              "\n",
              "        [[0, 0, 0],\n",
              "         [0, 0, 0],\n",
              "         [0, 0, 0],\n",
              "         ...,\n",
              "         [0, 0, 0],\n",
              "         [0, 0, 0],\n",
              "         [0, 0, 0]],\n",
              "\n",
              "        [[0, 0, 0],\n",
              "         [0, 0, 0],\n",
              "         [0, 0, 0],\n",
              "         ...,\n",
              "         [0, 0, 0],\n",
              "         [0, 0, 0],\n",
              "         [0, 0, 0]]],\n",
              "\n",
              "\n",
              "       [[[0, 0, 0],\n",
              "         [0, 0, 0],\n",
              "         [0, 0, 0],\n",
              "         ...,\n",
              "         [0, 0, 0],\n",
              "         [0, 0, 0],\n",
              "         [0, 0, 0]],\n",
              "\n",
              "        [[0, 0, 0],\n",
              "         [0, 0, 0],\n",
              "         [0, 0, 0],\n",
              "         ...,\n",
              "         [0, 0, 0],\n",
              "         [0, 0, 0],\n",
              "         [0, 0, 0]],\n",
              "\n",
              "        [[0, 0, 0],\n",
              "         [0, 0, 0],\n",
              "         [0, 0, 0],\n",
              "         ...,\n",
              "         [0, 0, 0],\n",
              "         [0, 0, 0],\n",
              "         [0, 0, 0]],\n",
              "\n",
              "        ...,\n",
              "\n",
              "        [[0, 0, 0],\n",
              "         [0, 0, 0],\n",
              "         [0, 0, 0],\n",
              "         ...,\n",
              "         [0, 0, 0],\n",
              "         [0, 0, 0],\n",
              "         [0, 0, 0]],\n",
              "\n",
              "        [[0, 0, 0],\n",
              "         [0, 0, 0],\n",
              "         [0, 0, 0],\n",
              "         ...,\n",
              "         [0, 0, 0],\n",
              "         [0, 0, 0],\n",
              "         [0, 0, 0]],\n",
              "\n",
              "        [[0, 0, 0],\n",
              "         [0, 0, 0],\n",
              "         [0, 0, 0],\n",
              "         ...,\n",
              "         [0, 0, 0],\n",
              "         [0, 0, 0],\n",
              "         [0, 0, 0]]]], dtype=uint8)"
            ]
          },
          "metadata": {
            "tags": []
          },
          "execution_count": 15
        }
      ]
    },
    {
      "cell_type": "code",
      "metadata": {
        "id": "ur7t7pPyeNu6"
      },
      "source": [
        "#def read_image(file_path):#############\n",
        "  #cv2.IMREAD_COLOR: It specifies to load a color image\n",
        "  #cv2.imread() method loads an image from the specified file.\n",
        "  #img=cv2.imread(file_path,cv2.IMREAD_COLOR)###########\n",
        "  #https://www.tutorialkart.com/opencv/python/opencv-python-resize-image/\n",
        "  #(rows,cols) means desired size for the output image\n",
        "  #interpolation=cv2.INTER_CUBIC: [optional] flag that interpolation over 8×8 pixel neighborhood\n",
        "  #return cv2.resize(img,(rows,cols),interpolation=cv2.INTER_CUBIC)############\n",
        "\n",
        "X[0,:]=read_image('/ResNet/MyDrive/cats_and_dogs_filtered/validation/cats/cat.2000.jpg')"
      ],
      "execution_count": null,
      "outputs": []
    },
    {
      "cell_type": "code",
      "metadata": {
        "colab": {
          "base_uri": "https://localhost:8080/"
        },
        "id": "q7K5be-0oOoA",
        "outputId": "de13e978-6dc4-4b0c-8929-58df2700d650"
      },
      "source": [
        "X"
      ],
      "execution_count": null,
      "outputs": [
        {
          "output_type": "execute_result",
          "data": {
            "text/plain": [
              "array([[[[0, 0, 0],\n",
              "         [0, 0, 0],\n",
              "         [0, 0, 0],\n",
              "         ...,\n",
              "         [0, 0, 0],\n",
              "         [0, 0, 0],\n",
              "         [0, 0, 0]],\n",
              "\n",
              "        [[0, 0, 0],\n",
              "         [0, 0, 0],\n",
              "         [0, 0, 0],\n",
              "         ...,\n",
              "         [0, 0, 0],\n",
              "         [0, 0, 0],\n",
              "         [0, 0, 0]],\n",
              "\n",
              "        [[0, 0, 0],\n",
              "         [0, 0, 0],\n",
              "         [0, 0, 0],\n",
              "         ...,\n",
              "         [0, 0, 0],\n",
              "         [0, 0, 0],\n",
              "         [0, 0, 0]],\n",
              "\n",
              "        ...,\n",
              "\n",
              "        [[0, 0, 0],\n",
              "         [0, 0, 0],\n",
              "         [0, 0, 0],\n",
              "         ...,\n",
              "         [0, 0, 0],\n",
              "         [0, 0, 0],\n",
              "         [0, 0, 0]],\n",
              "\n",
              "        [[0, 0, 0],\n",
              "         [0, 0, 0],\n",
              "         [0, 0, 0],\n",
              "         ...,\n",
              "         [0, 0, 0],\n",
              "         [0, 0, 0],\n",
              "         [0, 0, 0]],\n",
              "\n",
              "        [[0, 0, 0],\n",
              "         [0, 0, 0],\n",
              "         [0, 0, 0],\n",
              "         ...,\n",
              "         [0, 0, 0],\n",
              "         [0, 0, 0],\n",
              "         [0, 0, 0]]],\n",
              "\n",
              "\n",
              "       [[[0, 0, 0],\n",
              "         [0, 0, 0],\n",
              "         [0, 0, 0],\n",
              "         ...,\n",
              "         [0, 0, 0],\n",
              "         [0, 0, 0],\n",
              "         [0, 0, 0]],\n",
              "\n",
              "        [[0, 0, 0],\n",
              "         [0, 0, 0],\n",
              "         [0, 0, 0],\n",
              "         ...,\n",
              "         [0, 0, 0],\n",
              "         [0, 0, 0],\n",
              "         [0, 0, 0]],\n",
              "\n",
              "        [[0, 0, 0],\n",
              "         [0, 0, 0],\n",
              "         [0, 0, 0],\n",
              "         ...,\n",
              "         [0, 0, 0],\n",
              "         [0, 0, 0],\n",
              "         [0, 0, 0]],\n",
              "\n",
              "        ...,\n",
              "\n",
              "        [[0, 0, 0],\n",
              "         [0, 0, 0],\n",
              "         [0, 0, 0],\n",
              "         ...,\n",
              "         [0, 0, 0],\n",
              "         [0, 0, 0],\n",
              "         [0, 0, 0]],\n",
              "\n",
              "        [[0, 0, 0],\n",
              "         [0, 0, 0],\n",
              "         [0, 0, 0],\n",
              "         ...,\n",
              "         [0, 0, 0],\n",
              "         [0, 0, 0],\n",
              "         [0, 0, 0]],\n",
              "\n",
              "        [[0, 0, 0],\n",
              "         [0, 0, 0],\n",
              "         [0, 0, 0],\n",
              "         ...,\n",
              "         [0, 0, 0],\n",
              "         [0, 0, 0],\n",
              "         [0, 0, 0]]]], dtype=uint8)"
            ]
          },
          "metadata": {
            "tags": []
          },
          "execution_count": 16
        }
      ]
    },
    {
      "cell_type": "code",
      "metadata": {
        "id": "0n4R4qJo5Aa7",
        "colab": {
          "base_uri": "https://localhost:8080/"
        },
        "outputId": "37f74093-d8d4-422f-c4ef-d4e7e40f0e98"
      },
      "source": [
        "#The eye() function is used to create a 2-D array with ones on the diagonal and zeros elsewhere.\n",
        "a=np.eye(2,2)\n",
        "print(a)\n",
        "a=np.eye(2,3)\n",
        "print('##################')\n",
        "print(a)"
      ],
      "execution_count": null,
      "outputs": [
        {
          "output_type": "stream",
          "text": [
            "[[1. 0.]\n",
            " [0. 1.]]\n",
            "##################\n",
            "[[1. 0. 0.]\n",
            " [0. 1. 0.]]\n"
          ],
          "name": "stdout"
        }
      ]
    },
    {
      "cell_type": "code",
      "metadata": {
        "colab": {
          "base_uri": "https://localhost:8080/",
          "height": 299
        },
        "id": "KELS2kwSXLDX",
        "outputId": "6fcaf963-0e9e-42f8-ee34-3110431426d2"
      },
      "source": [
        "#Permute the dimensions of an array except that self is returned if self.ndim < 2.\n",
        "a=np.array([[1,2,3],[4,5,6]])\n",
        "print(a)\n",
        "a=a.T\n",
        "print(a)\n",
        "a=(1,23)\n",
        "a=a.reshape(-1)\n",
        "print(a)"
      ],
      "execution_count": null,
      "outputs": [
        {
          "output_type": "stream",
          "text": [
            "[[1 2 3]\n",
            " [4 5 6]]\n",
            "[[1 4]\n",
            " [2 5]\n",
            " [3 6]]\n"
          ],
          "name": "stdout"
        },
        {
          "output_type": "error",
          "ename": "AttributeError",
          "evalue": "ignored",
          "traceback": [
            "\u001b[0;31m---------------------------------------------------------------------------\u001b[0m",
            "\u001b[0;31mAttributeError\u001b[0m                            Traceback (most recent call last)",
            "\u001b[0;32m<ipython-input-134-22ddcab663ed>\u001b[0m in \u001b[0;36m<module>\u001b[0;34m()\u001b[0m\n\u001b[1;32m      5\u001b[0m \u001b[0mprint\u001b[0m\u001b[0;34m(\u001b[0m\u001b[0ma\u001b[0m\u001b[0;34m)\u001b[0m\u001b[0;34m\u001b[0m\u001b[0;34m\u001b[0m\u001b[0m\n\u001b[1;32m      6\u001b[0m \u001b[0ma\u001b[0m\u001b[0;34m=\u001b[0m\u001b[0;34m(\u001b[0m\u001b[0;36m1\u001b[0m\u001b[0;34m,\u001b[0m\u001b[0;36m23\u001b[0m\u001b[0;34m)\u001b[0m\u001b[0;34m\u001b[0m\u001b[0;34m\u001b[0m\u001b[0m\n\u001b[0;32m----> 7\u001b[0;31m \u001b[0ma\u001b[0m\u001b[0;34m=\u001b[0m\u001b[0ma\u001b[0m\u001b[0;34m.\u001b[0m\u001b[0mreshape\u001b[0m\u001b[0;34m(\u001b[0m\u001b[0;34m-\u001b[0m\u001b[0;36m1\u001b[0m\u001b[0;34m)\u001b[0m\u001b[0;34m\u001b[0m\u001b[0;34m\u001b[0m\u001b[0m\n\u001b[0m\u001b[1;32m      8\u001b[0m \u001b[0mprint\u001b[0m\u001b[0;34m(\u001b[0m\u001b[0ma\u001b[0m\u001b[0;34m)\u001b[0m\u001b[0;34m\u001b[0m\u001b[0;34m\u001b[0m\u001b[0m\n",
            "\u001b[0;31mAttributeError\u001b[0m: 'tuple' object has no attribute 'reshape'"
          ]
        }
      ]
    },
    {
      "cell_type": "code",
      "metadata": {
        "colab": {
          "base_uri": "https://localhost:8080/"
        },
        "id": "dAcxIthhIfEA",
        "outputId": "5c9ccae4-0d88-4dc8-f804-028ab1c34476"
      },
      "source": [
        "import numpy as np\n",
        "nb_classes = 6\n",
        "print(np.eye(6))\n",
        "targets = np.array([[2, 3, 4, 0]]).reshape(-1)\n",
        "print(targets)\n",
        "one_hot_targets = np.eye(nb_classes)[targets]\n",
        "print(one_hot_targets)\n",
        "one_hot_targets_transpose = np.eye(nb_classes)[targets].T\n",
        "print(one_hot_targets_transpose)"
      ],
      "execution_count": null,
      "outputs": [
        {
          "output_type": "stream",
          "text": [
            "[[1. 0. 0. 0. 0. 0.]\n",
            " [0. 1. 0. 0. 0. 0.]\n",
            " [0. 0. 1. 0. 0. 0.]\n",
            " [0. 0. 0. 1. 0. 0.]\n",
            " [0. 0. 0. 0. 1. 0.]\n",
            " [0. 0. 0. 0. 0. 1.]]\n",
            "[2 3 4 0]\n",
            "[[0. 0. 1. 0. 0. 0.]\n",
            " [0. 0. 0. 1. 0. 0.]\n",
            " [0. 0. 0. 0. 1. 0.]\n",
            " [1. 0. 0. 0. 0. 0.]]\n",
            "[[0. 0. 0. 1.]\n",
            " [0. 0. 0. 0.]\n",
            " [1. 0. 0. 0.]\n",
            " [0. 1. 0. 0.]\n",
            " [0. 0. 1. 0.]\n",
            " [0. 0. 0. 0.]]\n"
          ],
          "name": "stdout"
        }
      ]
    },
    {
      "cell_type": "code",
      "metadata": {
        "id": "-nXYTNB4If0X"
      },
      "source": [
        "def convert_onehot(y,c):\n",
        "  y=np.eye(c)[y.reshape(-1)]\n",
        "  return y"
      ],
      "execution_count": null,
      "outputs": []
    },
    {
      "cell_type": "code",
      "metadata": {
        "colab": {
          "base_uri": "https://localhost:8080/"
        },
        "id": "ZFOeWJu3N7D1",
        "outputId": "d5629778-2de2-42ff-bfb4-496de81d7df1"
      },
      "source": [
        "a=np.array([[2,3,4,0]])\n",
        "cal=convert_onehot(a,6)\n",
        "print(cal)"
      ],
      "execution_count": null,
      "outputs": [
        {
          "output_type": "stream",
          "text": [
            "[[0. 0. 1. 0. 0. 0.]\n",
            " [0. 0. 0. 1. 0. 0.]\n",
            " [0. 0. 0. 0. 1. 0.]\n",
            " [1. 0. 0. 0. 0. 0.]]\n"
          ],
          "name": "stdout"
        }
      ]
    },
    {
      "cell_type": "code",
      "metadata": {
        "colab": {
          "base_uri": "https://localhost:8080/"
        },
        "id": "Bivs0Pyje07I",
        "outputId": "6379620a-48f6-4a0b-d302-50b28c2fed65"
      },
      "source": [
        "#https://www.geeksforgeeks.org/random-seed-in-python/\n",
        "#https://stackoverflow.com/questions/21494489/what-does-numpy-random-seed0-do\n",
        "\n",
        "import random \n",
        "random.seed(0) \n",
        "# print a random number between 1 and 1000. \n",
        "print(random.randint(1, 1000)) \n",
        "# if you want to get the same random number again then, \n",
        "random.seed(0)  \n",
        "print(random.randint(1, 1000)) \n",
        "# If seed function is not used \n",
        "# Gives totally unpredictable responses. \n",
        "print(random.randint(1, 1000)) "
      ],
      "execution_count": null,
      "outputs": [
        {
          "output_type": "stream",
          "text": [
            "865\n",
            "865\n",
            "395\n"
          ],
          "name": "stdout"
        }
      ]
    },
    {
      "cell_type": "code",
      "metadata": {
        "colab": {
          "base_uri": "https://localhost:8080/"
        },
        "id": "3I9NVUmqfyy9",
        "outputId": "70f96513-de01-4fd9-c682-08c95d348280"
      },
      "source": [
        "np.random.seed(0)\n",
        "print(np.random.rand(4))\n",
        "np.random.seed(0)\n",
        "print(np.random.rand(4))"
      ],
      "execution_count": null,
      "outputs": [
        {
          "output_type": "stream",
          "text": [
            "[0.5488135  0.71518937 0.60276338 0.54488318]\n",
            "[0.5488135  0.71518937 0.60276338 0.54488318]\n"
          ],
          "name": "stdout"
        }
      ]
    },
    {
      "cell_type": "code",
      "metadata": {
        "colab": {
          "base_uri": "https://localhost:8080/"
        },
        "id": "f8fncijwgI9S",
        "outputId": "bd1e02a2-8a12-4f1d-81ae-73ddb28aef67"
      },
      "source": [
        "np.random.seed(4)\n",
        "print(np.random.rand(4))\n",
        "np.random.seed(3)\n",
        "print(np.random.rand(4))"
      ],
      "execution_count": null,
      "outputs": [
        {
          "output_type": "stream",
          "text": [
            "[0.96702984 0.54723225 0.97268436 0.71481599]\n",
            "[0.5507979  0.70814782 0.29090474 0.51082761]\n"
          ],
          "name": "stdout"
        }
      ]
    },
    {
      "cell_type": "code",
      "metadata": {
        "id": "9b8VtKSp4G9-"
      },
      "source": [
        "import os\n",
        "import cv2\n",
        "import numpy as np\n",
        "from keras import layers\n",
        "from keras.layers import Input, Add, Dense, Activation, ZeroPadding2D, BatchNormalization, Flatten, Conv2D, AveragePooling2D, MaxPooling2D\n",
        "from keras.models import Model, load_model\n",
        "from keras.initializers import glorot_uniform\n",
        "from keras.utils import plot_model\n",
        "from IPython.display import SVG\n",
        "from keras.utils.vis_utils import model_to_dot\n",
        "import keras.backend as K\n",
        "import tensorflow as tf"
      ],
      "execution_count": null,
      "outputs": []
    },
    {
      "cell_type": "code",
      "metadata": {
        "id": "5AL85-Tj5AL1"
      },
      "source": [
        "rows = 64\n",
        "cols = 64\n",
        "channels = 3\n",
        "classes = 2"
      ],
      "execution_count": null,
      "outputs": []
    },
    {
      "cell_type": "code",
      "metadata": {
        "id": "7BJNNCYL82Pf",
        "colab": {
          "base_uri": "https://localhost:8080/"
        },
        "outputId": "5a0a5bc4-d480-410c-f0f2-faa5bcec73f8"
      },
      "source": [
        "from google.colab import drive\n",
        "drive.mount('/ResNet')\n"
      ],
      "execution_count": null,
      "outputs": [
        {
          "output_type": "stream",
          "text": [
            "Mounted at /ResNet\n"
          ],
          "name": "stdout"
        }
      ]
    },
    {
      "cell_type": "code",
      "metadata": {
        "id": "B2iGpljnkuog"
      },
      "source": [
        ""
      ],
      "execution_count": null,
      "outputs": []
    },
    {
      "cell_type": "code",
      "metadata": {
        "id": "ZKqmd608kutp"
      },
      "source": [
        "def read_image(file_path):\n",
        "  img=cv2.imread(file_path)\n",
        "  #print('read_image : ',file_path,img)\n",
        "  return cv2.resize(img,(rows,cols),interpolation=cv2.INTER_CUBIC)\n",
        "def prepare_data(images):\n",
        "  m=len(images)\n",
        "  X=np.zeros((m,rows,cols,channels),dtype=np.uint8)\n",
        "  y=np.zeros((1,m),dtype=np.uint8)\n",
        "  #print('prepare_data_images : ',images)\n",
        "  for i,image_file in enumerate(images):\n",
        "    #print('prepare_data : ',image_file,i)\n",
        "    read_image(image_file)\n",
        "    if('dog' in image_file.lower()):\n",
        "      y[0,i]=1\n",
        "    elif('cat' in image_file.lower()):\n",
        "      y[0,i]=0\n",
        "  return X,y"
      ],
      "execution_count": null,
      "outputs": []
    },
    {
      "cell_type": "code",
      "metadata": {
        "colab": {
          "base_uri": "https://localhost:8080/"
        },
        "id": "Ka6r-MGWoOqn",
        "outputId": "cd404851-3bbe-4843-be09-787f6735f9b5"
      },
      "source": [
        "train_dir='/ResNet/MyDrive/cats_and_dogs_filtered/train/'\n",
        "test_dir='/ResNet/MyDrive/cats_and_dogs_filtered/validation/'\n",
        "train_dir_dogs=os.path.join(train_dir,'dogs/')\n",
        "train_dir_cats=os.path.join(train_dir,'cats/')\n",
        "test_dir_dogs=os.path.join(test_dir,'dogs/')\n",
        "test_dir_cats=os.path.join(test_dir,'cats/')\n",
        "\n",
        "train_dogs_cats=[]\n",
        "train_dogs_cats.append(train_dir_dogs)\n",
        "train_dogs_cats.append(train_dir_cats)\n",
        "\n",
        "test_dogs_cats=[]\n",
        "test_dogs_cats.append(test_dir_dogs)\n",
        "test_dogs_cats.append(test_dir_cats)\n",
        "\n",
        "train_dogs_len=len(os.listdir(train_dir_dogs))\n",
        "train_cats_len=len(os.listdir(train_dir_cats))\n",
        "total_train=train_dogs_len+train_cats_len\n",
        "\n",
        "test_dogs_len=len(os.listdir(test_dir_dogs))\n",
        "test_cats_len=len(os.listdir(test_dir_cats))\n",
        "total_test=test_dogs_len+test_cats_len\n",
        "\n",
        "print('total train : ',total_train)\n",
        "print('total test : ',total_test)\n",
        "\n",
        "print(train_dogs_cats[0])\n",
        "print(train_dogs_cats[1])\n",
        "print(test_dogs_cats[0])\n",
        "print(test_dogs_cats[1])"
      ],
      "execution_count": null,
      "outputs": [
        {
          "output_type": "stream",
          "text": [
            "total train :  2000\n",
            "total test :  1000\n",
            "/ResNet/MyDrive/cats_and_dogs_filtered/train/dogs/\n",
            "/ResNet/MyDrive/cats_and_dogs_filtered/train/cats/\n",
            "/ResNet/MyDrive/cats_and_dogs_filtered/validation/dogs/\n",
            "/ResNet/MyDrive/cats_and_dogs_filtered/validation/cats/\n"
          ],
          "name": "stdout"
        }
      ]
    },
    {
      "cell_type": "code",
      "metadata": {
        "colab": {
          "base_uri": "https://localhost:8080/"
        },
        "id": "9rmGZXF6r_vD",
        "outputId": "ba801943-db8d-449c-9e09-bf8f14d2269b"
      },
      "source": [
        "for i in range(0,len(train_dogs_cats)):\n",
        "  train_images=[train_dogs_cats[i]+j for j in os.listdir(train_dogs_cats[i])]\n",
        "print(train_images)\n"
      ],
      "execution_count": null,
      "outputs": [
        {
          "output_type": "stream",
          "text": [
            "['/ResNet/MyDrive/cats_and_dogs_filtered/train/cats/cat.100.jpg', '/ResNet/MyDrive/cats_and_dogs_filtered/train/cats/cat.0.jpg', '/ResNet/MyDrive/cats_and_dogs_filtered/train/cats/cat.10.jpg', '/ResNet/MyDrive/cats_and_dogs_filtered/train/cats/cat.1.jpg', '/ResNet/MyDrive/cats_and_dogs_filtered/train/cats/cat.101.jpg', '/ResNet/MyDrive/cats_and_dogs_filtered/train/cats/cat.102.jpg', '/ResNet/MyDrive/cats_and_dogs_filtered/train/cats/cat.103.jpg', '/ResNet/MyDrive/cats_and_dogs_filtered/train/cats/cat.104.jpg', '/ResNet/MyDrive/cats_and_dogs_filtered/train/cats/cat.105.jpg', '/ResNet/MyDrive/cats_and_dogs_filtered/train/cats/cat.106.jpg', '/ResNet/MyDrive/cats_and_dogs_filtered/train/cats/cat.107.jpg', '/ResNet/MyDrive/cats_and_dogs_filtered/train/cats/cat.108.jpg', '/ResNet/MyDrive/cats_and_dogs_filtered/train/cats/cat.109.jpg', '/ResNet/MyDrive/cats_and_dogs_filtered/train/cats/cat.110.jpg', '/ResNet/MyDrive/cats_and_dogs_filtered/train/cats/cat.11.jpg', '/ResNet/MyDrive/cats_and_dogs_filtered/train/cats/cat.111.jpg', '/ResNet/MyDrive/cats_and_dogs_filtered/train/cats/cat.112.jpg', '/ResNet/MyDrive/cats_and_dogs_filtered/train/cats/cat.113.jpg', '/ResNet/MyDrive/cats_and_dogs_filtered/train/cats/cat.114.jpg', '/ResNet/MyDrive/cats_and_dogs_filtered/train/cats/cat.115.jpg', '/ResNet/MyDrive/cats_and_dogs_filtered/train/cats/cat.116.jpg', '/ResNet/MyDrive/cats_and_dogs_filtered/train/cats/cat.117.jpg', '/ResNet/MyDrive/cats_and_dogs_filtered/train/cats/cat.118.jpg', '/ResNet/MyDrive/cats_and_dogs_filtered/train/cats/cat.119.jpg', '/ResNet/MyDrive/cats_and_dogs_filtered/train/cats/cat.120.jpg', '/ResNet/MyDrive/cats_and_dogs_filtered/train/cats/cat.12.jpg', '/ResNet/MyDrive/cats_and_dogs_filtered/train/cats/cat.121.jpg', '/ResNet/MyDrive/cats_and_dogs_filtered/train/cats/cat.122.jpg', '/ResNet/MyDrive/cats_and_dogs_filtered/train/cats/cat.123.jpg', '/ResNet/MyDrive/cats_and_dogs_filtered/train/cats/cat.124.jpg', '/ResNet/MyDrive/cats_and_dogs_filtered/train/cats/cat.126.jpg', '/ResNet/MyDrive/cats_and_dogs_filtered/train/cats/cat.125.jpg', '/ResNet/MyDrive/cats_and_dogs_filtered/train/cats/cat.127.jpg', '/ResNet/MyDrive/cats_and_dogs_filtered/train/cats/cat.129.jpg', '/ResNet/MyDrive/cats_and_dogs_filtered/train/cats/cat.128.jpg', '/ResNet/MyDrive/cats_and_dogs_filtered/train/cats/cat.133.jpg', '/ResNet/MyDrive/cats_and_dogs_filtered/train/cats/cat.134.jpg', '/ResNet/MyDrive/cats_and_dogs_filtered/train/cats/cat.130.jpg', '/ResNet/MyDrive/cats_and_dogs_filtered/train/cats/cat.135.jpg', '/ResNet/MyDrive/cats_and_dogs_filtered/train/cats/cat.131.jpg', '/ResNet/MyDrive/cats_and_dogs_filtered/train/cats/cat.132.jpg', '/ResNet/MyDrive/cats_and_dogs_filtered/train/cats/cat.13.jpg', '/ResNet/MyDrive/cats_and_dogs_filtered/train/cats/cat.141.jpg', '/ResNet/MyDrive/cats_and_dogs_filtered/train/cats/cat.138.jpg', '/ResNet/MyDrive/cats_and_dogs_filtered/train/cats/cat.136.jpg', '/ResNet/MyDrive/cats_and_dogs_filtered/train/cats/cat.14.jpg', '/ResNet/MyDrive/cats_and_dogs_filtered/train/cats/cat.140.jpg', '/ResNet/MyDrive/cats_and_dogs_filtered/train/cats/cat.139.jpg', '/ResNet/MyDrive/cats_and_dogs_filtered/train/cats/cat.137.jpg', '/ResNet/MyDrive/cats_and_dogs_filtered/train/cats/cat.147.jpg', '/ResNet/MyDrive/cats_and_dogs_filtered/train/cats/cat.146.jpg', '/ResNet/MyDrive/cats_and_dogs_filtered/train/cats/cat.145.jpg', '/ResNet/MyDrive/cats_and_dogs_filtered/train/cats/cat.142.jpg', '/ResNet/MyDrive/cats_and_dogs_filtered/train/cats/cat.143.jpg', '/ResNet/MyDrive/cats_and_dogs_filtered/train/cats/cat.144.jpg', '/ResNet/MyDrive/cats_and_dogs_filtered/train/cats/cat.152.jpg', '/ResNet/MyDrive/cats_and_dogs_filtered/train/cats/cat.149.jpg', '/ResNet/MyDrive/cats_and_dogs_filtered/train/cats/cat.153.jpg', '/ResNet/MyDrive/cats_and_dogs_filtered/train/cats/cat.15.jpg', '/ResNet/MyDrive/cats_and_dogs_filtered/train/cats/cat.150.jpg', '/ResNet/MyDrive/cats_and_dogs_filtered/train/cats/cat.151.jpg', '/ResNet/MyDrive/cats_and_dogs_filtered/train/cats/cat.148.jpg', '/ResNet/MyDrive/cats_and_dogs_filtered/train/cats/cat.159.jpg', '/ResNet/MyDrive/cats_and_dogs_filtered/train/cats/cat.157.jpg', '/ResNet/MyDrive/cats_and_dogs_filtered/train/cats/cat.158.jpg', '/ResNet/MyDrive/cats_and_dogs_filtered/train/cats/cat.155.jpg', '/ResNet/MyDrive/cats_and_dogs_filtered/train/cats/cat.156.jpg', '/ResNet/MyDrive/cats_and_dogs_filtered/train/cats/cat.154.jpg', '/ResNet/MyDrive/cats_and_dogs_filtered/train/cats/cat.161.jpg', '/ResNet/MyDrive/cats_and_dogs_filtered/train/cats/cat.16.jpg', '/ResNet/MyDrive/cats_and_dogs_filtered/train/cats/cat.163.jpg', '/ResNet/MyDrive/cats_and_dogs_filtered/train/cats/cat.165.jpg', '/ResNet/MyDrive/cats_and_dogs_filtered/train/cats/cat.164.jpg', '/ResNet/MyDrive/cats_and_dogs_filtered/train/cats/cat.160.jpg', '/ResNet/MyDrive/cats_and_dogs_filtered/train/cats/cat.162.jpg', '/ResNet/MyDrive/cats_and_dogs_filtered/train/cats/cat.168.jpg', '/ResNet/MyDrive/cats_and_dogs_filtered/train/cats/cat.17.jpg', '/ResNet/MyDrive/cats_and_dogs_filtered/train/cats/cat.169.jpg', '/ResNet/MyDrive/cats_and_dogs_filtered/train/cats/cat.171.jpg', '/ResNet/MyDrive/cats_and_dogs_filtered/train/cats/cat.170.jpg', '/ResNet/MyDrive/cats_and_dogs_filtered/train/cats/cat.166.jpg', '/ResNet/MyDrive/cats_and_dogs_filtered/train/cats/cat.167.jpg', '/ResNet/MyDrive/cats_and_dogs_filtered/train/cats/cat.173.jpg', '/ResNet/MyDrive/cats_and_dogs_filtered/train/cats/cat.176.jpg', '/ResNet/MyDrive/cats_and_dogs_filtered/train/cats/cat.174.jpg', '/ResNet/MyDrive/cats_and_dogs_filtered/train/cats/cat.177.jpg', '/ResNet/MyDrive/cats_and_dogs_filtered/train/cats/cat.172.jpg', '/ResNet/MyDrive/cats_and_dogs_filtered/train/cats/cat.175.jpg', '/ResNet/MyDrive/cats_and_dogs_filtered/train/cats/cat.182.jpg', '/ResNet/MyDrive/cats_and_dogs_filtered/train/cats/cat.180.jpg', '/ResNet/MyDrive/cats_and_dogs_filtered/train/cats/cat.178.jpg', '/ResNet/MyDrive/cats_and_dogs_filtered/train/cats/cat.18.jpg', '/ResNet/MyDrive/cats_and_dogs_filtered/train/cats/cat.181.jpg', '/ResNet/MyDrive/cats_and_dogs_filtered/train/cats/cat.179.jpg', '/ResNet/MyDrive/cats_and_dogs_filtered/train/cats/cat.183.jpg', '/ResNet/MyDrive/cats_and_dogs_filtered/train/cats/cat.186.jpg', '/ResNet/MyDrive/cats_and_dogs_filtered/train/cats/cat.188.jpg', '/ResNet/MyDrive/cats_and_dogs_filtered/train/cats/cat.184.jpg', '/ResNet/MyDrive/cats_and_dogs_filtered/train/cats/cat.185.jpg', '/ResNet/MyDrive/cats_and_dogs_filtered/train/cats/cat.189.jpg', '/ResNet/MyDrive/cats_and_dogs_filtered/train/cats/cat.187.jpg', '/ResNet/MyDrive/cats_and_dogs_filtered/train/cats/cat.191.jpg', '/ResNet/MyDrive/cats_and_dogs_filtered/train/cats/cat.195.jpg', '/ResNet/MyDrive/cats_and_dogs_filtered/train/cats/cat.19.jpg', '/ResNet/MyDrive/cats_and_dogs_filtered/train/cats/cat.192.jpg', '/ResNet/MyDrive/cats_and_dogs_filtered/train/cats/cat.190.jpg', '/ResNet/MyDrive/cats_and_dogs_filtered/train/cats/cat.194.jpg', '/ResNet/MyDrive/cats_and_dogs_filtered/train/cats/cat.193.jpg', '/ResNet/MyDrive/cats_and_dogs_filtered/train/cats/cat.2.jpg', '/ResNet/MyDrive/cats_and_dogs_filtered/train/cats/cat.200.jpg', '/ResNet/MyDrive/cats_and_dogs_filtered/train/cats/cat.198.jpg', '/ResNet/MyDrive/cats_and_dogs_filtered/train/cats/cat.197.jpg', '/ResNet/MyDrive/cats_and_dogs_filtered/train/cats/cat.20.jpg', '/ResNet/MyDrive/cats_and_dogs_filtered/train/cats/cat.199.jpg', '/ResNet/MyDrive/cats_and_dogs_filtered/train/cats/cat.201.jpg', '/ResNet/MyDrive/cats_and_dogs_filtered/train/cats/cat.196.jpg', '/ResNet/MyDrive/cats_and_dogs_filtered/train/cats/cat.202.jpg', '/ResNet/MyDrive/cats_and_dogs_filtered/train/cats/cat.207.jpg', '/ResNet/MyDrive/cats_and_dogs_filtered/train/cats/cat.205.jpg', '/ResNet/MyDrive/cats_and_dogs_filtered/train/cats/cat.203.jpg', '/ResNet/MyDrive/cats_and_dogs_filtered/train/cats/cat.206.jpg', '/ResNet/MyDrive/cats_and_dogs_filtered/train/cats/cat.204.jpg', '/ResNet/MyDrive/cats_and_dogs_filtered/train/cats/cat.210.jpg', '/ResNet/MyDrive/cats_and_dogs_filtered/train/cats/cat.212.jpg', '/ResNet/MyDrive/cats_and_dogs_filtered/train/cats/cat.208.jpg', '/ResNet/MyDrive/cats_and_dogs_filtered/train/cats/cat.211.jpg', '/ResNet/MyDrive/cats_and_dogs_filtered/train/cats/cat.21.jpg', '/ResNet/MyDrive/cats_and_dogs_filtered/train/cats/cat.213.jpg', '/ResNet/MyDrive/cats_and_dogs_filtered/train/cats/cat.209.jpg', '/ResNet/MyDrive/cats_and_dogs_filtered/train/cats/cat.215.jpg', '/ResNet/MyDrive/cats_and_dogs_filtered/train/cats/cat.218.jpg', '/ResNet/MyDrive/cats_and_dogs_filtered/train/cats/cat.216.jpg', '/ResNet/MyDrive/cats_and_dogs_filtered/train/cats/cat.217.jpg', '/ResNet/MyDrive/cats_and_dogs_filtered/train/cats/cat.214.jpg', '/ResNet/MyDrive/cats_and_dogs_filtered/train/cats/cat.224.jpg', '/ResNet/MyDrive/cats_and_dogs_filtered/train/cats/cat.221.jpg', '/ResNet/MyDrive/cats_and_dogs_filtered/train/cats/cat.223.jpg', '/ResNet/MyDrive/cats_and_dogs_filtered/train/cats/cat.219.jpg', '/ResNet/MyDrive/cats_and_dogs_filtered/train/cats/cat.220.jpg', '/ResNet/MyDrive/cats_and_dogs_filtered/train/cats/cat.222.jpg', '/ResNet/MyDrive/cats_and_dogs_filtered/train/cats/cat.22.jpg', '/ResNet/MyDrive/cats_and_dogs_filtered/train/cats/cat.228.jpg', '/ResNet/MyDrive/cats_and_dogs_filtered/train/cats/cat.225.jpg', '/ResNet/MyDrive/cats_and_dogs_filtered/train/cats/cat.226.jpg', '/ResNet/MyDrive/cats_and_dogs_filtered/train/cats/cat.229.jpg', '/ResNet/MyDrive/cats_and_dogs_filtered/train/cats/cat.227.jpg', '/ResNet/MyDrive/cats_and_dogs_filtered/train/cats/cat.23.jpg', '/ResNet/MyDrive/cats_and_dogs_filtered/train/cats/cat.230.jpg', '/ResNet/MyDrive/cats_and_dogs_filtered/train/cats/cat.233.jpg', '/ResNet/MyDrive/cats_and_dogs_filtered/train/cats/cat.234.jpg', '/ResNet/MyDrive/cats_and_dogs_filtered/train/cats/cat.236.jpg', '/ResNet/MyDrive/cats_and_dogs_filtered/train/cats/cat.231.jpg', '/ResNet/MyDrive/cats_and_dogs_filtered/train/cats/cat.232.jpg', '/ResNet/MyDrive/cats_and_dogs_filtered/train/cats/cat.235.jpg', '/ResNet/MyDrive/cats_and_dogs_filtered/train/cats/cat.240.jpg', '/ResNet/MyDrive/cats_and_dogs_filtered/train/cats/cat.238.jpg', '/ResNet/MyDrive/cats_and_dogs_filtered/train/cats/cat.242.jpg', '/ResNet/MyDrive/cats_and_dogs_filtered/train/cats/cat.241.jpg', '/ResNet/MyDrive/cats_and_dogs_filtered/train/cats/cat.239.jpg', '/ResNet/MyDrive/cats_and_dogs_filtered/train/cats/cat.237.jpg', '/ResNet/MyDrive/cats_and_dogs_filtered/train/cats/cat.24.jpg', '/ResNet/MyDrive/cats_and_dogs_filtered/train/cats/cat.245.jpg', '/ResNet/MyDrive/cats_and_dogs_filtered/train/cats/cat.246.jpg', '/ResNet/MyDrive/cats_and_dogs_filtered/train/cats/cat.243.jpg', '/ResNet/MyDrive/cats_and_dogs_filtered/train/cats/cat.244.jpg', '/ResNet/MyDrive/cats_and_dogs_filtered/train/cats/cat.247.jpg', '/ResNet/MyDrive/cats_and_dogs_filtered/train/cats/cat.250.jpg', '/ResNet/MyDrive/cats_and_dogs_filtered/train/cats/cat.251.jpg', '/ResNet/MyDrive/cats_and_dogs_filtered/train/cats/cat.249.jpg', '/ResNet/MyDrive/cats_and_dogs_filtered/train/cats/cat.252.jpg', '/ResNet/MyDrive/cats_and_dogs_filtered/train/cats/cat.248.jpg', '/ResNet/MyDrive/cats_and_dogs_filtered/train/cats/cat.253.jpg', '/ResNet/MyDrive/cats_and_dogs_filtered/train/cats/cat.25.jpg', '/ResNet/MyDrive/cats_and_dogs_filtered/train/cats/cat.258.jpg', '/ResNet/MyDrive/cats_and_dogs_filtered/train/cats/cat.255.jpg', '/ResNet/MyDrive/cats_and_dogs_filtered/train/cats/cat.254.jpg', '/ResNet/MyDrive/cats_and_dogs_filtered/train/cats/cat.257.jpg', '/ResNet/MyDrive/cats_and_dogs_filtered/train/cats/cat.256.jpg', '/ResNet/MyDrive/cats_and_dogs_filtered/train/cats/cat.259.jpg', '/ResNet/MyDrive/cats_and_dogs_filtered/train/cats/cat.26.jpg', '/ResNet/MyDrive/cats_and_dogs_filtered/train/cats/cat.261.jpg', '/ResNet/MyDrive/cats_and_dogs_filtered/train/cats/cat.263.jpg', '/ResNet/MyDrive/cats_and_dogs_filtered/train/cats/cat.262.jpg', '/ResNet/MyDrive/cats_and_dogs_filtered/train/cats/cat.265.jpg', '/ResNet/MyDrive/cats_and_dogs_filtered/train/cats/cat.260.jpg', '/ResNet/MyDrive/cats_and_dogs_filtered/train/cats/cat.264.jpg', '/ResNet/MyDrive/cats_and_dogs_filtered/train/cats/cat.267.jpg', '/ResNet/MyDrive/cats_and_dogs_filtered/train/cats/cat.266.jpg', '/ResNet/MyDrive/cats_and_dogs_filtered/train/cats/cat.269.jpg', '/ResNet/MyDrive/cats_and_dogs_filtered/train/cats/cat.270.jpg', '/ResNet/MyDrive/cats_and_dogs_filtered/train/cats/cat.268.jpg', '/ResNet/MyDrive/cats_and_dogs_filtered/train/cats/cat.27.jpg', '/ResNet/MyDrive/cats_and_dogs_filtered/train/cats/cat.271.jpg', '/ResNet/MyDrive/cats_and_dogs_filtered/train/cats/cat.273.jpg', '/ResNet/MyDrive/cats_and_dogs_filtered/train/cats/cat.275.jpg', '/ResNet/MyDrive/cats_and_dogs_filtered/train/cats/cat.276.jpg', '/ResNet/MyDrive/cats_and_dogs_filtered/train/cats/cat.272.jpg', '/ResNet/MyDrive/cats_and_dogs_filtered/train/cats/cat.274.jpg', '/ResNet/MyDrive/cats_and_dogs_filtered/train/cats/cat.277.jpg', '/ResNet/MyDrive/cats_and_dogs_filtered/train/cats/cat.279.jpg', '/ResNet/MyDrive/cats_and_dogs_filtered/train/cats/cat.282.jpg', '/ResNet/MyDrive/cats_and_dogs_filtered/train/cats/cat.280.jpg', '/ResNet/MyDrive/cats_and_dogs_filtered/train/cats/cat.278.jpg', '/ResNet/MyDrive/cats_and_dogs_filtered/train/cats/cat.281.jpg', '/ResNet/MyDrive/cats_and_dogs_filtered/train/cats/cat.28.jpg', '/ResNet/MyDrive/cats_and_dogs_filtered/train/cats/cat.284.jpg', '/ResNet/MyDrive/cats_and_dogs_filtered/train/cats/cat.285.jpg', '/ResNet/MyDrive/cats_and_dogs_filtered/train/cats/cat.288.jpg', '/ResNet/MyDrive/cats_and_dogs_filtered/train/cats/cat.283.jpg', '/ResNet/MyDrive/cats_and_dogs_filtered/train/cats/cat.287.jpg', '/ResNet/MyDrive/cats_and_dogs_filtered/train/cats/cat.289.jpg', '/ResNet/MyDrive/cats_and_dogs_filtered/train/cats/cat.286.jpg', '/ResNet/MyDrive/cats_and_dogs_filtered/train/cats/cat.29.jpg', '/ResNet/MyDrive/cats_and_dogs_filtered/train/cats/cat.292.jpg', '/ResNet/MyDrive/cats_and_dogs_filtered/train/cats/cat.293.jpg', '/ResNet/MyDrive/cats_and_dogs_filtered/train/cats/cat.294.jpg', '/ResNet/MyDrive/cats_and_dogs_filtered/train/cats/cat.291.jpg', '/ResNet/MyDrive/cats_and_dogs_filtered/train/cats/cat.290.jpg', '/ResNet/MyDrive/cats_and_dogs_filtered/train/cats/cat.299.jpg', '/ResNet/MyDrive/cats_and_dogs_filtered/train/cats/cat.30.jpg', '/ResNet/MyDrive/cats_and_dogs_filtered/train/cats/cat.295.jpg', '/ResNet/MyDrive/cats_and_dogs_filtered/train/cats/cat.297.jpg', '/ResNet/MyDrive/cats_and_dogs_filtered/train/cats/cat.298.jpg', '/ResNet/MyDrive/cats_and_dogs_filtered/train/cats/cat.296.jpg', '/ResNet/MyDrive/cats_and_dogs_filtered/train/cats/cat.300.jpg', '/ResNet/MyDrive/cats_and_dogs_filtered/train/cats/cat.3.jpg', '/ResNet/MyDrive/cats_and_dogs_filtered/train/cats/cat.305.jpg', '/ResNet/MyDrive/cats_and_dogs_filtered/train/cats/cat.301.jpg', '/ResNet/MyDrive/cats_and_dogs_filtered/train/cats/cat.303.jpg', '/ResNet/MyDrive/cats_and_dogs_filtered/train/cats/cat.302.jpg', '/ResNet/MyDrive/cats_and_dogs_filtered/train/cats/cat.304.jpg', '/ResNet/MyDrive/cats_and_dogs_filtered/train/cats/cat.311.jpg', '/ResNet/MyDrive/cats_and_dogs_filtered/train/cats/cat.308.jpg', '/ResNet/MyDrive/cats_and_dogs_filtered/train/cats/cat.309.jpg', '/ResNet/MyDrive/cats_and_dogs_filtered/train/cats/cat.306.jpg', '/ResNet/MyDrive/cats_and_dogs_filtered/train/cats/cat.307.jpg', '/ResNet/MyDrive/cats_and_dogs_filtered/train/cats/cat.31.jpg', '/ResNet/MyDrive/cats_and_dogs_filtered/train/cats/cat.310.jpg', '/ResNet/MyDrive/cats_and_dogs_filtered/train/cats/cat.314.jpg', '/ResNet/MyDrive/cats_and_dogs_filtered/train/cats/cat.315.jpg', '/ResNet/MyDrive/cats_and_dogs_filtered/train/cats/cat.317.jpg', '/ResNet/MyDrive/cats_and_dogs_filtered/train/cats/cat.313.jpg', '/ResNet/MyDrive/cats_and_dogs_filtered/train/cats/cat.316.jpg', '/ResNet/MyDrive/cats_and_dogs_filtered/train/cats/cat.312.jpg', '/ResNet/MyDrive/cats_and_dogs_filtered/train/cats/cat.321.jpg', '/ResNet/MyDrive/cats_and_dogs_filtered/train/cats/cat.318.jpg', '/ResNet/MyDrive/cats_and_dogs_filtered/train/cats/cat.320.jpg', '/ResNet/MyDrive/cats_and_dogs_filtered/train/cats/cat.323.jpg', '/ResNet/MyDrive/cats_and_dogs_filtered/train/cats/cat.322.jpg', '/ResNet/MyDrive/cats_and_dogs_filtered/train/cats/cat.319.jpg', '/ResNet/MyDrive/cats_and_dogs_filtered/train/cats/cat.32.jpg', '/ResNet/MyDrive/cats_and_dogs_filtered/train/cats/cat.328.jpg', '/ResNet/MyDrive/cats_and_dogs_filtered/train/cats/cat.325.jpg', '/ResNet/MyDrive/cats_and_dogs_filtered/train/cats/cat.326.jpg', '/ResNet/MyDrive/cats_and_dogs_filtered/train/cats/cat.327.jpg', '/ResNet/MyDrive/cats_and_dogs_filtered/train/cats/cat.324.jpg', '/ResNet/MyDrive/cats_and_dogs_filtered/train/cats/cat.331.jpg', '/ResNet/MyDrive/cats_and_dogs_filtered/train/cats/cat.332.jpg', '/ResNet/MyDrive/cats_and_dogs_filtered/train/cats/cat.329.jpg', '/ResNet/MyDrive/cats_and_dogs_filtered/train/cats/cat.330.jpg', '/ResNet/MyDrive/cats_and_dogs_filtered/train/cats/cat.33.jpg', '/ResNet/MyDrive/cats_and_dogs_filtered/train/cats/cat.333.jpg', '/ResNet/MyDrive/cats_and_dogs_filtered/train/cats/cat.334.jpg', '/ResNet/MyDrive/cats_and_dogs_filtered/train/cats/cat.339.jpg', '/ResNet/MyDrive/cats_and_dogs_filtered/train/cats/cat.336.jpg', '/ResNet/MyDrive/cats_and_dogs_filtered/train/cats/cat.340.jpg', '/ResNet/MyDrive/cats_and_dogs_filtered/train/cats/cat.34.jpg', '/ResNet/MyDrive/cats_and_dogs_filtered/train/cats/cat.341.jpg', '/ResNet/MyDrive/cats_and_dogs_filtered/train/cats/cat.338.jpg', '/ResNet/MyDrive/cats_and_dogs_filtered/train/cats/cat.337.jpg', '/ResNet/MyDrive/cats_and_dogs_filtered/train/cats/cat.335.jpg', '/ResNet/MyDrive/cats_and_dogs_filtered/train/cats/cat.346.jpg', '/ResNet/MyDrive/cats_and_dogs_filtered/train/cats/cat.342.jpg', '/ResNet/MyDrive/cats_and_dogs_filtered/train/cats/cat.345.jpg', '/ResNet/MyDrive/cats_and_dogs_filtered/train/cats/cat.344.jpg', '/ResNet/MyDrive/cats_and_dogs_filtered/train/cats/cat.343.jpg', '/ResNet/MyDrive/cats_and_dogs_filtered/train/cats/cat.349.jpg', '/ResNet/MyDrive/cats_and_dogs_filtered/train/cats/cat.347.jpg', '/ResNet/MyDrive/cats_and_dogs_filtered/train/cats/cat.352.jpg', '/ResNet/MyDrive/cats_and_dogs_filtered/train/cats/cat.35.jpg', '/ResNet/MyDrive/cats_and_dogs_filtered/train/cats/cat.351.jpg', '/ResNet/MyDrive/cats_and_dogs_filtered/train/cats/cat.350.jpg', '/ResNet/MyDrive/cats_and_dogs_filtered/train/cats/cat.348.jpg', '/ResNet/MyDrive/cats_and_dogs_filtered/train/cats/cat.356.jpg', '/ResNet/MyDrive/cats_and_dogs_filtered/train/cats/cat.354.jpg', '/ResNet/MyDrive/cats_and_dogs_filtered/train/cats/cat.353.jpg', '/ResNet/MyDrive/cats_and_dogs_filtered/train/cats/cat.358.jpg', '/ResNet/MyDrive/cats_and_dogs_filtered/train/cats/cat.355.jpg', '/ResNet/MyDrive/cats_and_dogs_filtered/train/cats/cat.357.jpg', '/ResNet/MyDrive/cats_and_dogs_filtered/train/cats/cat.364.jpg', '/ResNet/MyDrive/cats_and_dogs_filtered/train/cats/cat.360.jpg', '/ResNet/MyDrive/cats_and_dogs_filtered/train/cats/cat.36.jpg', '/ResNet/MyDrive/cats_and_dogs_filtered/train/cats/cat.361.jpg', '/ResNet/MyDrive/cats_and_dogs_filtered/train/cats/cat.363.jpg', '/ResNet/MyDrive/cats_and_dogs_filtered/train/cats/cat.359.jpg', '/ResNet/MyDrive/cats_and_dogs_filtered/train/cats/cat.362.jpg', '/ResNet/MyDrive/cats_and_dogs_filtered/train/cats/cat.369.jpg', '/ResNet/MyDrive/cats_and_dogs_filtered/train/cats/cat.37.jpg', '/ResNet/MyDrive/cats_and_dogs_filtered/train/cats/cat.367.jpg', '/ResNet/MyDrive/cats_and_dogs_filtered/train/cats/cat.365.jpg', '/ResNet/MyDrive/cats_and_dogs_filtered/train/cats/cat.368.jpg', '/ResNet/MyDrive/cats_and_dogs_filtered/train/cats/cat.366.jpg', '/ResNet/MyDrive/cats_and_dogs_filtered/train/cats/cat.375.jpg', '/ResNet/MyDrive/cats_and_dogs_filtered/train/cats/cat.371.jpg', '/ResNet/MyDrive/cats_and_dogs_filtered/train/cats/cat.373.jpg', '/ResNet/MyDrive/cats_and_dogs_filtered/train/cats/cat.370.jpg', '/ResNet/MyDrive/cats_and_dogs_filtered/train/cats/cat.372.jpg', '/ResNet/MyDrive/cats_and_dogs_filtered/train/cats/cat.376.jpg', '/ResNet/MyDrive/cats_and_dogs_filtered/train/cats/cat.374.jpg', '/ResNet/MyDrive/cats_and_dogs_filtered/train/cats/cat.378.jpg', '/ResNet/MyDrive/cats_and_dogs_filtered/train/cats/cat.380.jpg', '/ResNet/MyDrive/cats_and_dogs_filtered/train/cats/cat.379.jpg', '/ResNet/MyDrive/cats_and_dogs_filtered/train/cats/cat.38.jpg', '/ResNet/MyDrive/cats_and_dogs_filtered/train/cats/cat.377.jpg', '/ResNet/MyDrive/cats_and_dogs_filtered/train/cats/cat.381.jpg', '/ResNet/MyDrive/cats_and_dogs_filtered/train/cats/cat.382.jpg', '/ResNet/MyDrive/cats_and_dogs_filtered/train/cats/cat.385.jpg', '/ResNet/MyDrive/cats_and_dogs_filtered/train/cats/cat.383.jpg', '/ResNet/MyDrive/cats_and_dogs_filtered/train/cats/cat.384.jpg', '/ResNet/MyDrive/cats_and_dogs_filtered/train/cats/cat.386.jpg', '/ResNet/MyDrive/cats_and_dogs_filtered/train/cats/cat.387.jpg', '/ResNet/MyDrive/cats_and_dogs_filtered/train/cats/cat.388.jpg', '/ResNet/MyDrive/cats_and_dogs_filtered/train/cats/cat.39.jpg', '/ResNet/MyDrive/cats_and_dogs_filtered/train/cats/cat.391.jpg', '/ResNet/MyDrive/cats_and_dogs_filtered/train/cats/cat.392.jpg', '/ResNet/MyDrive/cats_and_dogs_filtered/train/cats/cat.390.jpg', '/ResNet/MyDrive/cats_and_dogs_filtered/train/cats/cat.389.jpg', '/ResNet/MyDrive/cats_and_dogs_filtered/train/cats/cat.393.jpg', '/ResNet/MyDrive/cats_and_dogs_filtered/train/cats/cat.394.jpg', '/ResNet/MyDrive/cats_and_dogs_filtered/train/cats/cat.399.jpg', '/ResNet/MyDrive/cats_and_dogs_filtered/train/cats/cat.398.jpg', '/ResNet/MyDrive/cats_and_dogs_filtered/train/cats/cat.395.jpg', '/ResNet/MyDrive/cats_and_dogs_filtered/train/cats/cat.397.jpg', '/ResNet/MyDrive/cats_and_dogs_filtered/train/cats/cat.396.jpg', '/ResNet/MyDrive/cats_and_dogs_filtered/train/cats/cat.4.jpg', '/ResNet/MyDrive/cats_and_dogs_filtered/train/cats/cat.401.jpg', '/ResNet/MyDrive/cats_and_dogs_filtered/train/cats/cat.40.jpg', '/ResNet/MyDrive/cats_and_dogs_filtered/train/cats/cat.400.jpg', '/ResNet/MyDrive/cats_and_dogs_filtered/train/cats/cat.403.jpg', '/ResNet/MyDrive/cats_and_dogs_filtered/train/cats/cat.404.jpg', '/ResNet/MyDrive/cats_and_dogs_filtered/train/cats/cat.402.jpg', '/ResNet/MyDrive/cats_and_dogs_filtered/train/cats/cat.410.jpg', '/ResNet/MyDrive/cats_and_dogs_filtered/train/cats/cat.407.jpg', '/ResNet/MyDrive/cats_and_dogs_filtered/train/cats/cat.408.jpg', '/ResNet/MyDrive/cats_and_dogs_filtered/train/cats/cat.41.jpg', '/ResNet/MyDrive/cats_and_dogs_filtered/train/cats/cat.409.jpg', '/ResNet/MyDrive/cats_and_dogs_filtered/train/cats/cat.405.jpg', '/ResNet/MyDrive/cats_and_dogs_filtered/train/cats/cat.406.jpg', '/ResNet/MyDrive/cats_and_dogs_filtered/train/cats/cat.412.jpg', '/ResNet/MyDrive/cats_and_dogs_filtered/train/cats/cat.411.jpg', '/ResNet/MyDrive/cats_and_dogs_filtered/train/cats/cat.416.jpg', '/ResNet/MyDrive/cats_and_dogs_filtered/train/cats/cat.414.jpg', '/ResNet/MyDrive/cats_and_dogs_filtered/train/cats/cat.413.jpg', '/ResNet/MyDrive/cats_and_dogs_filtered/train/cats/cat.415.jpg', '/ResNet/MyDrive/cats_and_dogs_filtered/train/cats/cat.420.jpg', '/ResNet/MyDrive/cats_and_dogs_filtered/train/cats/cat.417.jpg', '/ResNet/MyDrive/cats_and_dogs_filtered/train/cats/cat.422.jpg', '/ResNet/MyDrive/cats_and_dogs_filtered/train/cats/cat.418.jpg', '/ResNet/MyDrive/cats_and_dogs_filtered/train/cats/cat.421.jpg', '/ResNet/MyDrive/cats_and_dogs_filtered/train/cats/cat.42.jpg', '/ResNet/MyDrive/cats_and_dogs_filtered/train/cats/cat.419.jpg', '/ResNet/MyDrive/cats_and_dogs_filtered/train/cats/cat.426.jpg', '/ResNet/MyDrive/cats_and_dogs_filtered/train/cats/cat.425.jpg', '/ResNet/MyDrive/cats_and_dogs_filtered/train/cats/cat.424.jpg', '/ResNet/MyDrive/cats_and_dogs_filtered/train/cats/cat.423.jpg', '/ResNet/MyDrive/cats_and_dogs_filtered/train/cats/cat.427.jpg', '/ResNet/MyDrive/cats_and_dogs_filtered/train/cats/cat.428.jpg', '/ResNet/MyDrive/cats_and_dogs_filtered/train/cats/cat.432.jpg', '/ResNet/MyDrive/cats_and_dogs_filtered/train/cats/cat.430.jpg', '/ResNet/MyDrive/cats_and_dogs_filtered/train/cats/cat.429.jpg', '/ResNet/MyDrive/cats_and_dogs_filtered/train/cats/cat.43.jpg', '/ResNet/MyDrive/cats_and_dogs_filtered/train/cats/cat.433.jpg', '/ResNet/MyDrive/cats_and_dogs_filtered/train/cats/cat.431.jpg', '/ResNet/MyDrive/cats_and_dogs_filtered/train/cats/cat.437.jpg', '/ResNet/MyDrive/cats_and_dogs_filtered/train/cats/cat.434.jpg', '/ResNet/MyDrive/cats_and_dogs_filtered/train/cats/cat.438.jpg', '/ResNet/MyDrive/cats_and_dogs_filtered/train/cats/cat.436.jpg', '/ResNet/MyDrive/cats_and_dogs_filtered/train/cats/cat.435.jpg', '/ResNet/MyDrive/cats_and_dogs_filtered/train/cats/cat.439.jpg', '/ResNet/MyDrive/cats_and_dogs_filtered/train/cats/cat.44.jpg', '/ResNet/MyDrive/cats_and_dogs_filtered/train/cats/cat.440.jpg', '/ResNet/MyDrive/cats_and_dogs_filtered/train/cats/cat.442.jpg', '/ResNet/MyDrive/cats_and_dogs_filtered/train/cats/cat.445.jpg', '/ResNet/MyDrive/cats_and_dogs_filtered/train/cats/cat.441.jpg', '/ResNet/MyDrive/cats_and_dogs_filtered/train/cats/cat.444.jpg', '/ResNet/MyDrive/cats_and_dogs_filtered/train/cats/cat.443.jpg', '/ResNet/MyDrive/cats_and_dogs_filtered/train/cats/cat.450.jpg', '/ResNet/MyDrive/cats_and_dogs_filtered/train/cats/cat.447.jpg', '/ResNet/MyDrive/cats_and_dogs_filtered/train/cats/cat.448.jpg', '/ResNet/MyDrive/cats_and_dogs_filtered/train/cats/cat.449.jpg', '/ResNet/MyDrive/cats_and_dogs_filtered/train/cats/cat.446.jpg', '/ResNet/MyDrive/cats_and_dogs_filtered/train/cats/cat.45.jpg', '/ResNet/MyDrive/cats_and_dogs_filtered/train/cats/cat.456.jpg', '/ResNet/MyDrive/cats_and_dogs_filtered/train/cats/cat.453.jpg', '/ResNet/MyDrive/cats_and_dogs_filtered/train/cats/cat.452.jpg', '/ResNet/MyDrive/cats_and_dogs_filtered/train/cats/cat.455.jpg', '/ResNet/MyDrive/cats_and_dogs_filtered/train/cats/cat.451.jpg', '/ResNet/MyDrive/cats_and_dogs_filtered/train/cats/cat.454.jpg', '/ResNet/MyDrive/cats_and_dogs_filtered/train/cats/cat.460.jpg', '/ResNet/MyDrive/cats_and_dogs_filtered/train/cats/cat.459.jpg', '/ResNet/MyDrive/cats_and_dogs_filtered/train/cats/cat.458.jpg', '/ResNet/MyDrive/cats_and_dogs_filtered/train/cats/cat.461.jpg', '/ResNet/MyDrive/cats_and_dogs_filtered/train/cats/cat.462.jpg', '/ResNet/MyDrive/cats_and_dogs_filtered/train/cats/cat.46.jpg', '/ResNet/MyDrive/cats_and_dogs_filtered/train/cats/cat.457.jpg', '/ResNet/MyDrive/cats_and_dogs_filtered/train/cats/cat.465.jpg', '/ResNet/MyDrive/cats_and_dogs_filtered/train/cats/cat.467.jpg', '/ResNet/MyDrive/cats_and_dogs_filtered/train/cats/cat.463.jpg', '/ResNet/MyDrive/cats_and_dogs_filtered/train/cats/cat.466.jpg', '/ResNet/MyDrive/cats_and_dogs_filtered/train/cats/cat.464.jpg', '/ResNet/MyDrive/cats_and_dogs_filtered/train/cats/cat.472.jpg', '/ResNet/MyDrive/cats_and_dogs_filtered/train/cats/cat.471.jpg', '/ResNet/MyDrive/cats_and_dogs_filtered/train/cats/cat.47.jpg', '/ResNet/MyDrive/cats_and_dogs_filtered/train/cats/cat.473.jpg', '/ResNet/MyDrive/cats_and_dogs_filtered/train/cats/cat.470.jpg', '/ResNet/MyDrive/cats_and_dogs_filtered/train/cats/cat.469.jpg', '/ResNet/MyDrive/cats_and_dogs_filtered/train/cats/cat.468.jpg', '/ResNet/MyDrive/cats_and_dogs_filtered/train/cats/cat.478.jpg', '/ResNet/MyDrive/cats_and_dogs_filtered/train/cats/cat.477.jpg', '/ResNet/MyDrive/cats_and_dogs_filtered/train/cats/cat.479.jpg', '/ResNet/MyDrive/cats_and_dogs_filtered/train/cats/cat.474.jpg', '/ResNet/MyDrive/cats_and_dogs_filtered/train/cats/cat.475.jpg', '/ResNet/MyDrive/cats_and_dogs_filtered/train/cats/cat.476.jpg', '/ResNet/MyDrive/cats_and_dogs_filtered/train/cats/cat.48.jpg', '/ResNet/MyDrive/cats_and_dogs_filtered/train/cats/cat.485.jpg', '/ResNet/MyDrive/cats_and_dogs_filtered/train/cats/cat.482.jpg', '/ResNet/MyDrive/cats_and_dogs_filtered/train/cats/cat.481.jpg', '/ResNet/MyDrive/cats_and_dogs_filtered/train/cats/cat.480.jpg', '/ResNet/MyDrive/cats_and_dogs_filtered/train/cats/cat.483.jpg', '/ResNet/MyDrive/cats_and_dogs_filtered/train/cats/cat.484.jpg', '/ResNet/MyDrive/cats_and_dogs_filtered/train/cats/cat.491.jpg', '/ResNet/MyDrive/cats_and_dogs_filtered/train/cats/cat.486.jpg', '/ResNet/MyDrive/cats_and_dogs_filtered/train/cats/cat.49.jpg', '/ResNet/MyDrive/cats_and_dogs_filtered/train/cats/cat.489.jpg', '/ResNet/MyDrive/cats_and_dogs_filtered/train/cats/cat.490.jpg', '/ResNet/MyDrive/cats_and_dogs_filtered/train/cats/cat.487.jpg', '/ResNet/MyDrive/cats_and_dogs_filtered/train/cats/cat.488.jpg', '/ResNet/MyDrive/cats_and_dogs_filtered/train/cats/cat.492.jpg', '/ResNet/MyDrive/cats_and_dogs_filtered/train/cats/cat.497.jpg', '/ResNet/MyDrive/cats_and_dogs_filtered/train/cats/cat.493.jpg', '/ResNet/MyDrive/cats_and_dogs_filtered/train/cats/cat.494.jpg', '/ResNet/MyDrive/cats_and_dogs_filtered/train/cats/cat.495.jpg', '/ResNet/MyDrive/cats_and_dogs_filtered/train/cats/cat.496.jpg', '/ResNet/MyDrive/cats_and_dogs_filtered/train/cats/cat.502.jpg', '/ResNet/MyDrive/cats_and_dogs_filtered/train/cats/cat.50.jpg', '/ResNet/MyDrive/cats_and_dogs_filtered/train/cats/cat.501.jpg', '/ResNet/MyDrive/cats_and_dogs_filtered/train/cats/cat.500.jpg', '/ResNet/MyDrive/cats_and_dogs_filtered/train/cats/cat.499.jpg', '/ResNet/MyDrive/cats_and_dogs_filtered/train/cats/cat.5.jpg', '/ResNet/MyDrive/cats_and_dogs_filtered/train/cats/cat.503.jpg', '/ResNet/MyDrive/cats_and_dogs_filtered/train/cats/cat.498.jpg', '/ResNet/MyDrive/cats_and_dogs_filtered/train/cats/cat.507.jpg', '/ResNet/MyDrive/cats_and_dogs_filtered/train/cats/cat.504.jpg', '/ResNet/MyDrive/cats_and_dogs_filtered/train/cats/cat.506.jpg', '/ResNet/MyDrive/cats_and_dogs_filtered/train/cats/cat.505.jpg', '/ResNet/MyDrive/cats_and_dogs_filtered/train/cats/cat.508.jpg', '/ResNet/MyDrive/cats_and_dogs_filtered/train/cats/cat.509.jpg', '/ResNet/MyDrive/cats_and_dogs_filtered/train/cats/cat.510.jpg', '/ResNet/MyDrive/cats_and_dogs_filtered/train/cats/cat.513.jpg', '/ResNet/MyDrive/cats_and_dogs_filtered/train/cats/cat.514.jpg', '/ResNet/MyDrive/cats_and_dogs_filtered/train/cats/cat.51.jpg', '/ResNet/MyDrive/cats_and_dogs_filtered/train/cats/cat.512.jpg', '/ResNet/MyDrive/cats_and_dogs_filtered/train/cats/cat.511.jpg', '/ResNet/MyDrive/cats_and_dogs_filtered/train/cats/cat.516.jpg', '/ResNet/MyDrive/cats_and_dogs_filtered/train/cats/cat.518.jpg', '/ResNet/MyDrive/cats_and_dogs_filtered/train/cats/cat.521.jpg', '/ResNet/MyDrive/cats_and_dogs_filtered/train/cats/cat.515.jpg', '/ResNet/MyDrive/cats_and_dogs_filtered/train/cats/cat.52.jpg', '/ResNet/MyDrive/cats_and_dogs_filtered/train/cats/cat.517.jpg', '/ResNet/MyDrive/cats_and_dogs_filtered/train/cats/cat.519.jpg', '/ResNet/MyDrive/cats_and_dogs_filtered/train/cats/cat.520.jpg', '/ResNet/MyDrive/cats_and_dogs_filtered/train/cats/cat.526.jpg', '/ResNet/MyDrive/cats_and_dogs_filtered/train/cats/cat.523.jpg', '/ResNet/MyDrive/cats_and_dogs_filtered/train/cats/cat.522.jpg', '/ResNet/MyDrive/cats_and_dogs_filtered/train/cats/cat.525.jpg', '/ResNet/MyDrive/cats_and_dogs_filtered/train/cats/cat.524.jpg', '/ResNet/MyDrive/cats_and_dogs_filtered/train/cats/cat.529.jpg', '/ResNet/MyDrive/cats_and_dogs_filtered/train/cats/cat.527.jpg', '/ResNet/MyDrive/cats_and_dogs_filtered/train/cats/cat.530.jpg', '/ResNet/MyDrive/cats_and_dogs_filtered/train/cats/cat.532.jpg', '/ResNet/MyDrive/cats_and_dogs_filtered/train/cats/cat.531.jpg', '/ResNet/MyDrive/cats_and_dogs_filtered/train/cats/cat.528.jpg', '/ResNet/MyDrive/cats_and_dogs_filtered/train/cats/cat.53.jpg', '/ResNet/MyDrive/cats_and_dogs_filtered/train/cats/cat.536.jpg', '/ResNet/MyDrive/cats_and_dogs_filtered/train/cats/cat.533.jpg', '/ResNet/MyDrive/cats_and_dogs_filtered/train/cats/cat.534.jpg', '/ResNet/MyDrive/cats_and_dogs_filtered/train/cats/cat.537.jpg', '/ResNet/MyDrive/cats_and_dogs_filtered/train/cats/cat.535.jpg', '/ResNet/MyDrive/cats_and_dogs_filtered/train/cats/cat.538.jpg', '/ResNet/MyDrive/cats_and_dogs_filtered/train/cats/cat.542.jpg', '/ResNet/MyDrive/cats_and_dogs_filtered/train/cats/cat.539.jpg', '/ResNet/MyDrive/cats_and_dogs_filtered/train/cats/cat.543.jpg', '/ResNet/MyDrive/cats_and_dogs_filtered/train/cats/cat.540.jpg', '/ResNet/MyDrive/cats_and_dogs_filtered/train/cats/cat.541.jpg', '/ResNet/MyDrive/cats_and_dogs_filtered/train/cats/cat.54.jpg', '/ResNet/MyDrive/cats_and_dogs_filtered/train/cats/cat.547.jpg', '/ResNet/MyDrive/cats_and_dogs_filtered/train/cats/cat.549.jpg', '/ResNet/MyDrive/cats_and_dogs_filtered/train/cats/cat.545.jpg', '/ResNet/MyDrive/cats_and_dogs_filtered/train/cats/cat.544.jpg', '/ResNet/MyDrive/cats_and_dogs_filtered/train/cats/cat.546.jpg', '/ResNet/MyDrive/cats_and_dogs_filtered/train/cats/cat.548.jpg', '/ResNet/MyDrive/cats_and_dogs_filtered/train/cats/cat.55.jpg', '/ResNet/MyDrive/cats_and_dogs_filtered/train/cats/cat.553.jpg', '/ResNet/MyDrive/cats_and_dogs_filtered/train/cats/cat.555.jpg', '/ResNet/MyDrive/cats_and_dogs_filtered/train/cats/cat.550.jpg', '/ResNet/MyDrive/cats_and_dogs_filtered/train/cats/cat.552.jpg', '/ResNet/MyDrive/cats_and_dogs_filtered/train/cats/cat.554.jpg', '/ResNet/MyDrive/cats_and_dogs_filtered/train/cats/cat.551.jpg', '/ResNet/MyDrive/cats_and_dogs_filtered/train/cats/cat.56.jpg', '/ResNet/MyDrive/cats_and_dogs_filtered/train/cats/cat.560.jpg', '/ResNet/MyDrive/cats_and_dogs_filtered/train/cats/cat.558.jpg', '/ResNet/MyDrive/cats_and_dogs_filtered/train/cats/cat.556.jpg', '/ResNet/MyDrive/cats_and_dogs_filtered/train/cats/cat.557.jpg', '/ResNet/MyDrive/cats_and_dogs_filtered/train/cats/cat.559.jpg', '/ResNet/MyDrive/cats_and_dogs_filtered/train/cats/cat.563.jpg', '/ResNet/MyDrive/cats_and_dogs_filtered/train/cats/cat.565.jpg', '/ResNet/MyDrive/cats_and_dogs_filtered/train/cats/cat.564.jpg', '/ResNet/MyDrive/cats_and_dogs_filtered/train/cats/cat.562.jpg', '/ResNet/MyDrive/cats_and_dogs_filtered/train/cats/cat.566.jpg', '/ResNet/MyDrive/cats_and_dogs_filtered/train/cats/cat.561.jpg', '/ResNet/MyDrive/cats_and_dogs_filtered/train/cats/cat.569.jpg', '/ResNet/MyDrive/cats_and_dogs_filtered/train/cats/cat.567.jpg', '/ResNet/MyDrive/cats_and_dogs_filtered/train/cats/cat.571.jpg', '/ResNet/MyDrive/cats_and_dogs_filtered/train/cats/cat.570.jpg', '/ResNet/MyDrive/cats_and_dogs_filtered/train/cats/cat.568.jpg', '/ResNet/MyDrive/cats_and_dogs_filtered/train/cats/cat.57.jpg', '/ResNet/MyDrive/cats_and_dogs_filtered/train/cats/cat.576.jpg', '/ResNet/MyDrive/cats_and_dogs_filtered/train/cats/cat.574.jpg', '/ResNet/MyDrive/cats_and_dogs_filtered/train/cats/cat.573.jpg', '/ResNet/MyDrive/cats_and_dogs_filtered/train/cats/cat.577.jpg', '/ResNet/MyDrive/cats_and_dogs_filtered/train/cats/cat.575.jpg', '/ResNet/MyDrive/cats_and_dogs_filtered/train/cats/cat.578.jpg', '/ResNet/MyDrive/cats_and_dogs_filtered/train/cats/cat.572.jpg', '/ResNet/MyDrive/cats_and_dogs_filtered/train/cats/cat.58.jpg', '/ResNet/MyDrive/cats_and_dogs_filtered/train/cats/cat.581.jpg', '/ResNet/MyDrive/cats_and_dogs_filtered/train/cats/cat.583.jpg', '/ResNet/MyDrive/cats_and_dogs_filtered/train/cats/cat.580.jpg', '/ResNet/MyDrive/cats_and_dogs_filtered/train/cats/cat.582.jpg', '/ResNet/MyDrive/cats_and_dogs_filtered/train/cats/cat.579.jpg', '/ResNet/MyDrive/cats_and_dogs_filtered/train/cats/cat.585.jpg', '/ResNet/MyDrive/cats_and_dogs_filtered/train/cats/cat.587.jpg', '/ResNet/MyDrive/cats_and_dogs_filtered/train/cats/cat.589.jpg', '/ResNet/MyDrive/cats_and_dogs_filtered/train/cats/cat.588.jpg', '/ResNet/MyDrive/cats_and_dogs_filtered/train/cats/cat.586.jpg', '/ResNet/MyDrive/cats_and_dogs_filtered/train/cats/cat.584.jpg', '/ResNet/MyDrive/cats_and_dogs_filtered/train/cats/cat.594.jpg', '/ResNet/MyDrive/cats_and_dogs_filtered/train/cats/cat.591.jpg', '/ResNet/MyDrive/cats_and_dogs_filtered/train/cats/cat.593.jpg', '/ResNet/MyDrive/cats_and_dogs_filtered/train/cats/cat.592.jpg', '/ResNet/MyDrive/cats_and_dogs_filtered/train/cats/cat.59.jpg', '/ResNet/MyDrive/cats_and_dogs_filtered/train/cats/cat.590.jpg', '/ResNet/MyDrive/cats_and_dogs_filtered/train/cats/cat.599.jpg', '/ResNet/MyDrive/cats_and_dogs_filtered/train/cats/cat.6.jpg', '/ResNet/MyDrive/cats_and_dogs_filtered/train/cats/cat.595.jpg', '/ResNet/MyDrive/cats_and_dogs_filtered/train/cats/cat.596.jpg', '/ResNet/MyDrive/cats_and_dogs_filtered/train/cats/cat.598.jpg', '/ResNet/MyDrive/cats_and_dogs_filtered/train/cats/cat.597.jpg', '/ResNet/MyDrive/cats_and_dogs_filtered/train/cats/cat.60.jpg', '/ResNet/MyDrive/cats_and_dogs_filtered/train/cats/cat.600.jpg', '/ResNet/MyDrive/cats_and_dogs_filtered/train/cats/cat.603.jpg', '/ResNet/MyDrive/cats_and_dogs_filtered/train/cats/cat.604.jpg', '/ResNet/MyDrive/cats_and_dogs_filtered/train/cats/cat.601.jpg', '/ResNet/MyDrive/cats_and_dogs_filtered/train/cats/cat.605.jpg', '/ResNet/MyDrive/cats_and_dogs_filtered/train/cats/cat.602.jpg', '/ResNet/MyDrive/cats_and_dogs_filtered/train/cats/cat.610.jpg', '/ResNet/MyDrive/cats_and_dogs_filtered/train/cats/cat.608.jpg', '/ResNet/MyDrive/cats_and_dogs_filtered/train/cats/cat.61.jpg', '/ResNet/MyDrive/cats_and_dogs_filtered/train/cats/cat.607.jpg', '/ResNet/MyDrive/cats_and_dogs_filtered/train/cats/cat.606.jpg', '/ResNet/MyDrive/cats_and_dogs_filtered/train/cats/cat.611.jpg', '/ResNet/MyDrive/cats_and_dogs_filtered/train/cats/cat.609.jpg', '/ResNet/MyDrive/cats_and_dogs_filtered/train/cats/cat.615.jpg', '/ResNet/MyDrive/cats_and_dogs_filtered/train/cats/cat.614.jpg', '/ResNet/MyDrive/cats_and_dogs_filtered/train/cats/cat.617.jpg', '/ResNet/MyDrive/cats_and_dogs_filtered/train/cats/cat.612.jpg', '/ResNet/MyDrive/cats_and_dogs_filtered/train/cats/cat.616.jpg', '/ResNet/MyDrive/cats_and_dogs_filtered/train/cats/cat.613.jpg', '/ResNet/MyDrive/cats_and_dogs_filtered/train/cats/cat.62.jpg', '/ResNet/MyDrive/cats_and_dogs_filtered/train/cats/cat.621.jpg', '/ResNet/MyDrive/cats_and_dogs_filtered/train/cats/cat.620.jpg', '/ResNet/MyDrive/cats_and_dogs_filtered/train/cats/cat.619.jpg', '/ResNet/MyDrive/cats_and_dogs_filtered/train/cats/cat.618.jpg', '/ResNet/MyDrive/cats_and_dogs_filtered/train/cats/cat.622.jpg', '/ResNet/MyDrive/cats_and_dogs_filtered/train/cats/cat.625.jpg', '/ResNet/MyDrive/cats_and_dogs_filtered/train/cats/cat.624.jpg', '/ResNet/MyDrive/cats_and_dogs_filtered/train/cats/cat.623.jpg', '/ResNet/MyDrive/cats_and_dogs_filtered/train/cats/cat.627.jpg', '/ResNet/MyDrive/cats_and_dogs_filtered/train/cats/cat.626.jpg', '/ResNet/MyDrive/cats_and_dogs_filtered/train/cats/cat.632.jpg', '/ResNet/MyDrive/cats_and_dogs_filtered/train/cats/cat.630.jpg', '/ResNet/MyDrive/cats_and_dogs_filtered/train/cats/cat.633.jpg', '/ResNet/MyDrive/cats_and_dogs_filtered/train/cats/cat.63.jpg', '/ResNet/MyDrive/cats_and_dogs_filtered/train/cats/cat.629.jpg', '/ResNet/MyDrive/cats_and_dogs_filtered/train/cats/cat.631.jpg', '/ResNet/MyDrive/cats_and_dogs_filtered/train/cats/cat.628.jpg', '/ResNet/MyDrive/cats_and_dogs_filtered/train/cats/cat.635.jpg', '/ResNet/MyDrive/cats_and_dogs_filtered/train/cats/cat.634.jpg', '/ResNet/MyDrive/cats_and_dogs_filtered/train/cats/cat.639.jpg', '/ResNet/MyDrive/cats_and_dogs_filtered/train/cats/cat.638.jpg', '/ResNet/MyDrive/cats_and_dogs_filtered/train/cats/cat.636.jpg', '/ResNet/MyDrive/cats_and_dogs_filtered/train/cats/cat.637.jpg', '/ResNet/MyDrive/cats_and_dogs_filtered/train/cats/cat.641.jpg', '/ResNet/MyDrive/cats_and_dogs_filtered/train/cats/cat.64.jpg', '/ResNet/MyDrive/cats_and_dogs_filtered/train/cats/cat.644.jpg', '/ResNet/MyDrive/cats_and_dogs_filtered/train/cats/cat.645.jpg', '/ResNet/MyDrive/cats_and_dogs_filtered/train/cats/cat.640.jpg', '/ResNet/MyDrive/cats_and_dogs_filtered/train/cats/cat.642.jpg', '/ResNet/MyDrive/cats_and_dogs_filtered/train/cats/cat.643.jpg', '/ResNet/MyDrive/cats_and_dogs_filtered/train/cats/cat.648.jpg', '/ResNet/MyDrive/cats_and_dogs_filtered/train/cats/cat.647.jpg', '/ResNet/MyDrive/cats_and_dogs_filtered/train/cats/cat.651.jpg', '/ResNet/MyDrive/cats_and_dogs_filtered/train/cats/cat.649.jpg', '/ResNet/MyDrive/cats_and_dogs_filtered/train/cats/cat.65.jpg', '/ResNet/MyDrive/cats_and_dogs_filtered/train/cats/cat.646.jpg', '/ResNet/MyDrive/cats_and_dogs_filtered/train/cats/cat.650.jpg', '/ResNet/MyDrive/cats_and_dogs_filtered/train/cats/cat.654.jpg', '/ResNet/MyDrive/cats_and_dogs_filtered/train/cats/cat.653.jpg', '/ResNet/MyDrive/cats_and_dogs_filtered/train/cats/cat.652.jpg', '/ResNet/MyDrive/cats_and_dogs_filtered/train/cats/cat.655.jpg', '/ResNet/MyDrive/cats_and_dogs_filtered/train/cats/cat.656.jpg', '/ResNet/MyDrive/cats_and_dogs_filtered/train/cats/cat.659.jpg', '/ResNet/MyDrive/cats_and_dogs_filtered/train/cats/cat.657.jpg', '/ResNet/MyDrive/cats_and_dogs_filtered/train/cats/cat.66.jpg', '/ResNet/MyDrive/cats_and_dogs_filtered/train/cats/cat.658.jpg', '/ResNet/MyDrive/cats_and_dogs_filtered/train/cats/cat.661.jpg', '/ResNet/MyDrive/cats_and_dogs_filtered/train/cats/cat.662.jpg', '/ResNet/MyDrive/cats_and_dogs_filtered/train/cats/cat.660.jpg', '/ResNet/MyDrive/cats_and_dogs_filtered/train/cats/cat.667.jpg', '/ResNet/MyDrive/cats_and_dogs_filtered/train/cats/cat.663.jpg', '/ResNet/MyDrive/cats_and_dogs_filtered/train/cats/cat.668.jpg', '/ResNet/MyDrive/cats_and_dogs_filtered/train/cats/cat.666.jpg', '/ResNet/MyDrive/cats_and_dogs_filtered/train/cats/cat.665.jpg', '/ResNet/MyDrive/cats_and_dogs_filtered/train/cats/cat.664.jpg', '/ResNet/MyDrive/cats_and_dogs_filtered/train/cats/cat.673.jpg', '/ResNet/MyDrive/cats_and_dogs_filtered/train/cats/cat.670.jpg', '/ResNet/MyDrive/cats_and_dogs_filtered/train/cats/cat.674.jpg', '/ResNet/MyDrive/cats_and_dogs_filtered/train/cats/cat.669.jpg', '/ResNet/MyDrive/cats_and_dogs_filtered/train/cats/cat.67.jpg', '/ResNet/MyDrive/cats_and_dogs_filtered/train/cats/cat.671.jpg', '/ResNet/MyDrive/cats_and_dogs_filtered/train/cats/cat.672.jpg', '/ResNet/MyDrive/cats_and_dogs_filtered/train/cats/cat.675.jpg', '/ResNet/MyDrive/cats_and_dogs_filtered/train/cats/cat.679.jpg', '/ResNet/MyDrive/cats_and_dogs_filtered/train/cats/cat.678.jpg', '/ResNet/MyDrive/cats_and_dogs_filtered/train/cats/cat.677.jpg', '/ResNet/MyDrive/cats_and_dogs_filtered/train/cats/cat.676.jpg', '/ResNet/MyDrive/cats_and_dogs_filtered/train/cats/cat.682.jpg', '/ResNet/MyDrive/cats_and_dogs_filtered/train/cats/cat.681.jpg', '/ResNet/MyDrive/cats_and_dogs_filtered/train/cats/cat.685.jpg', '/ResNet/MyDrive/cats_and_dogs_filtered/train/cats/cat.683.jpg', '/ResNet/MyDrive/cats_and_dogs_filtered/train/cats/cat.684.jpg', '/ResNet/MyDrive/cats_and_dogs_filtered/train/cats/cat.68.jpg', '/ResNet/MyDrive/cats_and_dogs_filtered/train/cats/cat.680.jpg', '/ResNet/MyDrive/cats_and_dogs_filtered/train/cats/cat.689.jpg', '/ResNet/MyDrive/cats_and_dogs_filtered/train/cats/cat.688.jpg', '/ResNet/MyDrive/cats_and_dogs_filtered/train/cats/cat.686.jpg', '/ResNet/MyDrive/cats_and_dogs_filtered/train/cats/cat.69.jpg', '/ResNet/MyDrive/cats_and_dogs_filtered/train/cats/cat.691.jpg', '/ResNet/MyDrive/cats_and_dogs_filtered/train/cats/cat.687.jpg', '/ResNet/MyDrive/cats_and_dogs_filtered/train/cats/cat.690.jpg', '/ResNet/MyDrive/cats_and_dogs_filtered/train/cats/cat.694.jpg', '/ResNet/MyDrive/cats_and_dogs_filtered/train/cats/cat.695.jpg', '/ResNet/MyDrive/cats_and_dogs_filtered/train/cats/cat.696.jpg', '/ResNet/MyDrive/cats_and_dogs_filtered/train/cats/cat.692.jpg', '/ResNet/MyDrive/cats_and_dogs_filtered/train/cats/cat.693.jpg', '/ResNet/MyDrive/cats_and_dogs_filtered/train/cats/cat.701.jpg', '/ResNet/MyDrive/cats_and_dogs_filtered/train/cats/cat.702.jpg', '/ResNet/MyDrive/cats_and_dogs_filtered/train/cats/cat.697.jpg', '/ResNet/MyDrive/cats_and_dogs_filtered/train/cats/cat.7.jpg', '/ResNet/MyDrive/cats_and_dogs_filtered/train/cats/cat.698.jpg', '/ResNet/MyDrive/cats_and_dogs_filtered/train/cats/cat.700.jpg', '/ResNet/MyDrive/cats_and_dogs_filtered/train/cats/cat.699.jpg', '/ResNet/MyDrive/cats_and_dogs_filtered/train/cats/cat.70.jpg', '/ResNet/MyDrive/cats_and_dogs_filtered/train/cats/cat.704.jpg', '/ResNet/MyDrive/cats_and_dogs_filtered/train/cats/cat.706.jpg', '/ResNet/MyDrive/cats_and_dogs_filtered/train/cats/cat.703.jpg', '/ResNet/MyDrive/cats_and_dogs_filtered/train/cats/cat.705.jpg', '/ResNet/MyDrive/cats_and_dogs_filtered/train/cats/cat.707.jpg', '/ResNet/MyDrive/cats_and_dogs_filtered/train/cats/cat.712.jpg', '/ResNet/MyDrive/cats_and_dogs_filtered/train/cats/cat.711.jpg', '/ResNet/MyDrive/cats_and_dogs_filtered/train/cats/cat.708.jpg', '/ResNet/MyDrive/cats_and_dogs_filtered/train/cats/cat.71.jpg', '/ResNet/MyDrive/cats_and_dogs_filtered/train/cats/cat.710.jpg', '/ResNet/MyDrive/cats_and_dogs_filtered/train/cats/cat.709.jpg', '/ResNet/MyDrive/cats_and_dogs_filtered/train/cats/cat.713.jpg', '/ResNet/MyDrive/cats_and_dogs_filtered/train/cats/cat.717.jpg', '/ResNet/MyDrive/cats_and_dogs_filtered/train/cats/cat.715.jpg', '/ResNet/MyDrive/cats_and_dogs_filtered/train/cats/cat.716.jpg', '/ResNet/MyDrive/cats_and_dogs_filtered/train/cats/cat.714.jpg', '/ResNet/MyDrive/cats_and_dogs_filtered/train/cats/cat.723.jpg', '/ResNet/MyDrive/cats_and_dogs_filtered/train/cats/cat.718.jpg', '/ResNet/MyDrive/cats_and_dogs_filtered/train/cats/cat.72.jpg', '/ResNet/MyDrive/cats_and_dogs_filtered/train/cats/cat.722.jpg', '/ResNet/MyDrive/cats_and_dogs_filtered/train/cats/cat.719.jpg', '/ResNet/MyDrive/cats_and_dogs_filtered/train/cats/cat.721.jpg', '/ResNet/MyDrive/cats_and_dogs_filtered/train/cats/cat.720.jpg', '/ResNet/MyDrive/cats_and_dogs_filtered/train/cats/cat.725.jpg', '/ResNet/MyDrive/cats_and_dogs_filtered/train/cats/cat.727.jpg', '/ResNet/MyDrive/cats_and_dogs_filtered/train/cats/cat.728.jpg', '/ResNet/MyDrive/cats_and_dogs_filtered/train/cats/cat.724.jpg', '/ResNet/MyDrive/cats_and_dogs_filtered/train/cats/cat.726.jpg', '/ResNet/MyDrive/cats_and_dogs_filtered/train/cats/cat.73.jpg', '/ResNet/MyDrive/cats_and_dogs_filtered/train/cats/cat.732.jpg', '/ResNet/MyDrive/cats_and_dogs_filtered/train/cats/cat.733.jpg', '/ResNet/MyDrive/cats_and_dogs_filtered/train/cats/cat.729.jpg', '/ResNet/MyDrive/cats_and_dogs_filtered/train/cats/cat.734.jpg', '/ResNet/MyDrive/cats_and_dogs_filtered/train/cats/cat.730.jpg', '/ResNet/MyDrive/cats_and_dogs_filtered/train/cats/cat.731.jpg', '/ResNet/MyDrive/cats_and_dogs_filtered/train/cats/cat.735.jpg', '/ResNet/MyDrive/cats_and_dogs_filtered/train/cats/cat.737.jpg', '/ResNet/MyDrive/cats_and_dogs_filtered/train/cats/cat.740.jpg', '/ResNet/MyDrive/cats_and_dogs_filtered/train/cats/cat.739.jpg', '/ResNet/MyDrive/cats_and_dogs_filtered/train/cats/cat.738.jpg', '/ResNet/MyDrive/cats_and_dogs_filtered/train/cats/cat.736.jpg', '/ResNet/MyDrive/cats_and_dogs_filtered/train/cats/cat.74.jpg', '/ResNet/MyDrive/cats_and_dogs_filtered/train/cats/cat.744.jpg', '/ResNet/MyDrive/cats_and_dogs_filtered/train/cats/cat.741.jpg', '/ResNet/MyDrive/cats_and_dogs_filtered/train/cats/cat.742.jpg', '/ResNet/MyDrive/cats_and_dogs_filtered/train/cats/cat.746.jpg', '/ResNet/MyDrive/cats_and_dogs_filtered/train/cats/cat.745.jpg', '/ResNet/MyDrive/cats_and_dogs_filtered/train/cats/cat.743.jpg', '/ResNet/MyDrive/cats_and_dogs_filtered/train/cats/cat.751.jpg', '/ResNet/MyDrive/cats_and_dogs_filtered/train/cats/cat.748.jpg', '/ResNet/MyDrive/cats_and_dogs_filtered/train/cats/cat.749.jpg', '/ResNet/MyDrive/cats_and_dogs_filtered/train/cats/cat.750.jpg', '/ResNet/MyDrive/cats_and_dogs_filtered/train/cats/cat.75.jpg', '/ResNet/MyDrive/cats_and_dogs_filtered/train/cats/cat.747.jpg', '/ResNet/MyDrive/cats_and_dogs_filtered/train/cats/cat.756.jpg', '/ResNet/MyDrive/cats_and_dogs_filtered/train/cats/cat.753.jpg', '/ResNet/MyDrive/cats_and_dogs_filtered/train/cats/cat.757.jpg', '/ResNet/MyDrive/cats_and_dogs_filtered/train/cats/cat.752.jpg', '/ResNet/MyDrive/cats_and_dogs_filtered/train/cats/cat.755.jpg', '/ResNet/MyDrive/cats_and_dogs_filtered/train/cats/cat.754.jpg', '/ResNet/MyDrive/cats_and_dogs_filtered/train/cats/cat.761.jpg', '/ResNet/MyDrive/cats_and_dogs_filtered/train/cats/cat.758.jpg', '/ResNet/MyDrive/cats_and_dogs_filtered/train/cats/cat.76.jpg', '/ResNet/MyDrive/cats_and_dogs_filtered/train/cats/cat.759.jpg', '/ResNet/MyDrive/cats_and_dogs_filtered/train/cats/cat.763.jpg', '/ResNet/MyDrive/cats_and_dogs_filtered/train/cats/cat.762.jpg', '/ResNet/MyDrive/cats_and_dogs_filtered/train/cats/cat.760.jpg', '/ResNet/MyDrive/cats_and_dogs_filtered/train/cats/cat.765.jpg', '/ResNet/MyDrive/cats_and_dogs_filtered/train/cats/cat.764.jpg', '/ResNet/MyDrive/cats_and_dogs_filtered/train/cats/cat.766.jpg', '/ResNet/MyDrive/cats_and_dogs_filtered/train/cats/cat.768.jpg', '/ResNet/MyDrive/cats_and_dogs_filtered/train/cats/cat.767.jpg', '/ResNet/MyDrive/cats_and_dogs_filtered/train/cats/cat.77.jpg', '/ResNet/MyDrive/cats_and_dogs_filtered/train/cats/cat.771.jpg', '/ResNet/MyDrive/cats_and_dogs_filtered/train/cats/cat.769.jpg', '/ResNet/MyDrive/cats_and_dogs_filtered/train/cats/cat.770.jpg', '/ResNet/MyDrive/cats_and_dogs_filtered/train/cats/cat.772.jpg', '/ResNet/MyDrive/cats_and_dogs_filtered/train/cats/cat.774.jpg', '/ResNet/MyDrive/cats_and_dogs_filtered/train/cats/cat.773.jpg', '/ResNet/MyDrive/cats_and_dogs_filtered/train/cats/cat.775.jpg', '/ResNet/MyDrive/cats_and_dogs_filtered/train/cats/cat.777.jpg', '/ResNet/MyDrive/cats_and_dogs_filtered/train/cats/cat.779.jpg', '/ResNet/MyDrive/cats_and_dogs_filtered/train/cats/cat.776.jpg', '/ResNet/MyDrive/cats_and_dogs_filtered/train/cats/cat.778.jpg', '/ResNet/MyDrive/cats_and_dogs_filtered/train/cats/cat.782.jpg', '/ResNet/MyDrive/cats_and_dogs_filtered/train/cats/cat.784.jpg', '/ResNet/MyDrive/cats_and_dogs_filtered/train/cats/cat.785.jpg', '/ResNet/MyDrive/cats_and_dogs_filtered/train/cats/cat.783.jpg', '/ResNet/MyDrive/cats_and_dogs_filtered/train/cats/cat.781.jpg', '/ResNet/MyDrive/cats_and_dogs_filtered/train/cats/cat.78.jpg', '/ResNet/MyDrive/cats_and_dogs_filtered/train/cats/cat.780.jpg', '/ResNet/MyDrive/cats_and_dogs_filtered/train/cats/cat.790.jpg', '/ResNet/MyDrive/cats_and_dogs_filtered/train/cats/cat.789.jpg', '/ResNet/MyDrive/cats_and_dogs_filtered/train/cats/cat.786.jpg', '/ResNet/MyDrive/cats_and_dogs_filtered/train/cats/cat.787.jpg', '/ResNet/MyDrive/cats_and_dogs_filtered/train/cats/cat.788.jpg', '/ResNet/MyDrive/cats_and_dogs_filtered/train/cats/cat.79.jpg', '/ResNet/MyDrive/cats_and_dogs_filtered/train/cats/cat.791.jpg', '/ResNet/MyDrive/cats_and_dogs_filtered/train/cats/cat.796.jpg', '/ResNet/MyDrive/cats_and_dogs_filtered/train/cats/cat.794.jpg', '/ResNet/MyDrive/cats_and_dogs_filtered/train/cats/cat.792.jpg', '/ResNet/MyDrive/cats_and_dogs_filtered/train/cats/cat.795.jpg', '/ResNet/MyDrive/cats_and_dogs_filtered/train/cats/cat.793.jpg', '/ResNet/MyDrive/cats_and_dogs_filtered/train/cats/cat.798.jpg', '/ResNet/MyDrive/cats_and_dogs_filtered/train/cats/cat.8.jpg', '/ResNet/MyDrive/cats_and_dogs_filtered/train/cats/cat.800.jpg', '/ResNet/MyDrive/cats_and_dogs_filtered/train/cats/cat.802.jpg', '/ResNet/MyDrive/cats_and_dogs_filtered/train/cats/cat.80.jpg', '/ResNet/MyDrive/cats_and_dogs_filtered/train/cats/cat.797.jpg', '/ResNet/MyDrive/cats_and_dogs_filtered/train/cats/cat.801.jpg', '/ResNet/MyDrive/cats_and_dogs_filtered/train/cats/cat.799.jpg', '/ResNet/MyDrive/cats_and_dogs_filtered/train/cats/cat.808.jpg', '/ResNet/MyDrive/cats_and_dogs_filtered/train/cats/cat.807.jpg', '/ResNet/MyDrive/cats_and_dogs_filtered/train/cats/cat.803.jpg', '/ResNet/MyDrive/cats_and_dogs_filtered/train/cats/cat.805.jpg', '/ResNet/MyDrive/cats_and_dogs_filtered/train/cats/cat.804.jpg', '/ResNet/MyDrive/cats_and_dogs_filtered/train/cats/cat.806.jpg', '/ResNet/MyDrive/cats_and_dogs_filtered/train/cats/cat.81.jpg', '/ResNet/MyDrive/cats_and_dogs_filtered/train/cats/cat.810.jpg', '/ResNet/MyDrive/cats_and_dogs_filtered/train/cats/cat.812.jpg', '/ResNet/MyDrive/cats_and_dogs_filtered/train/cats/cat.813.jpg', '/ResNet/MyDrive/cats_and_dogs_filtered/train/cats/cat.809.jpg', '/ResNet/MyDrive/cats_and_dogs_filtered/train/cats/cat.811.jpg', '/ResNet/MyDrive/cats_and_dogs_filtered/train/cats/cat.819.jpg', '/ResNet/MyDrive/cats_and_dogs_filtered/train/cats/cat.815.jpg', '/ResNet/MyDrive/cats_and_dogs_filtered/train/cats/cat.814.jpg', '/ResNet/MyDrive/cats_and_dogs_filtered/train/cats/cat.817.jpg', '/ResNet/MyDrive/cats_and_dogs_filtered/train/cats/cat.816.jpg', '/ResNet/MyDrive/cats_and_dogs_filtered/train/cats/cat.818.jpg', '/ResNet/MyDrive/cats_and_dogs_filtered/train/cats/cat.820.jpg', '/ResNet/MyDrive/cats_and_dogs_filtered/train/cats/cat.822.jpg', '/ResNet/MyDrive/cats_and_dogs_filtered/train/cats/cat.821.jpg', '/ResNet/MyDrive/cats_and_dogs_filtered/train/cats/cat.823.jpg', '/ResNet/MyDrive/cats_and_dogs_filtered/train/cats/cat.82.jpg', '/ResNet/MyDrive/cats_and_dogs_filtered/train/cats/cat.824.jpg', '/ResNet/MyDrive/cats_and_dogs_filtered/train/cats/cat.827.jpg', '/ResNet/MyDrive/cats_and_dogs_filtered/train/cats/cat.826.jpg', '/ResNet/MyDrive/cats_and_dogs_filtered/train/cats/cat.83.jpg', '/ResNet/MyDrive/cats_and_dogs_filtered/train/cats/cat.825.jpg', '/ResNet/MyDrive/cats_and_dogs_filtered/train/cats/cat.828.jpg', '/ResNet/MyDrive/cats_and_dogs_filtered/train/cats/cat.829.jpg', '/ResNet/MyDrive/cats_and_dogs_filtered/train/cats/cat.830.jpg', '/ResNet/MyDrive/cats_and_dogs_filtered/train/cats/cat.832.jpg', '/ResNet/MyDrive/cats_and_dogs_filtered/train/cats/cat.836.jpg', '/ResNet/MyDrive/cats_and_dogs_filtered/train/cats/cat.835.jpg', '/ResNet/MyDrive/cats_and_dogs_filtered/train/cats/cat.831.jpg', '/ResNet/MyDrive/cats_and_dogs_filtered/train/cats/cat.834.jpg', '/ResNet/MyDrive/cats_and_dogs_filtered/train/cats/cat.833.jpg', '/ResNet/MyDrive/cats_and_dogs_filtered/train/cats/cat.841.jpg', '/ResNet/MyDrive/cats_and_dogs_filtered/train/cats/cat.840.jpg', '/ResNet/MyDrive/cats_and_dogs_filtered/train/cats/cat.837.jpg', '/ResNet/MyDrive/cats_and_dogs_filtered/train/cats/cat.84.jpg', '/ResNet/MyDrive/cats_and_dogs_filtered/train/cats/cat.838.jpg', '/ResNet/MyDrive/cats_and_dogs_filtered/train/cats/cat.839.jpg', '/ResNet/MyDrive/cats_and_dogs_filtered/train/cats/cat.844.jpg', '/ResNet/MyDrive/cats_and_dogs_filtered/train/cats/cat.845.jpg', '/ResNet/MyDrive/cats_and_dogs_filtered/train/cats/cat.847.jpg', '/ResNet/MyDrive/cats_and_dogs_filtered/train/cats/cat.842.jpg', '/ResNet/MyDrive/cats_and_dogs_filtered/train/cats/cat.846.jpg', '/ResNet/MyDrive/cats_and_dogs_filtered/train/cats/cat.843.jpg', '/ResNet/MyDrive/cats_and_dogs_filtered/train/cats/cat.850.jpg', '/ResNet/MyDrive/cats_and_dogs_filtered/train/cats/cat.849.jpg', '/ResNet/MyDrive/cats_and_dogs_filtered/train/cats/cat.85.jpg', '/ResNet/MyDrive/cats_and_dogs_filtered/train/cats/cat.852.jpg', '/ResNet/MyDrive/cats_and_dogs_filtered/train/cats/cat.848.jpg', '/ResNet/MyDrive/cats_and_dogs_filtered/train/cats/cat.851.jpg', '/ResNet/MyDrive/cats_and_dogs_filtered/train/cats/cat.854.jpg', '/ResNet/MyDrive/cats_and_dogs_filtered/train/cats/cat.857.jpg', '/ResNet/MyDrive/cats_and_dogs_filtered/train/cats/cat.853.jpg', '/ResNet/MyDrive/cats_and_dogs_filtered/train/cats/cat.856.jpg', '/ResNet/MyDrive/cats_and_dogs_filtered/train/cats/cat.858.jpg', '/ResNet/MyDrive/cats_and_dogs_filtered/train/cats/cat.855.jpg', '/ResNet/MyDrive/cats_and_dogs_filtered/train/cats/cat.859.jpg', '/ResNet/MyDrive/cats_and_dogs_filtered/train/cats/cat.860.jpg', '/ResNet/MyDrive/cats_and_dogs_filtered/train/cats/cat.864.jpg', '/ResNet/MyDrive/cats_and_dogs_filtered/train/cats/cat.86.jpg', '/ResNet/MyDrive/cats_and_dogs_filtered/train/cats/cat.861.jpg', '/ResNet/MyDrive/cats_and_dogs_filtered/train/cats/cat.862.jpg', '/ResNet/MyDrive/cats_and_dogs_filtered/train/cats/cat.863.jpg', '/ResNet/MyDrive/cats_and_dogs_filtered/train/cats/cat.865.jpg', '/ResNet/MyDrive/cats_and_dogs_filtered/train/cats/cat.868.jpg', '/ResNet/MyDrive/cats_and_dogs_filtered/train/cats/cat.867.jpg', '/ResNet/MyDrive/cats_and_dogs_filtered/train/cats/cat.869.jpg', '/ResNet/MyDrive/cats_and_dogs_filtered/train/cats/cat.866.jpg', '/ResNet/MyDrive/cats_and_dogs_filtered/train/cats/cat.87.jpg', '/ResNet/MyDrive/cats_and_dogs_filtered/train/cats/cat.875.jpg', '/ResNet/MyDrive/cats_and_dogs_filtered/train/cats/cat.874.jpg', '/ResNet/MyDrive/cats_and_dogs_filtered/train/cats/cat.870.jpg', '/ResNet/MyDrive/cats_and_dogs_filtered/train/cats/cat.872.jpg', '/ResNet/MyDrive/cats_and_dogs_filtered/train/cats/cat.873.jpg', '/ResNet/MyDrive/cats_and_dogs_filtered/train/cats/cat.871.jpg', '/ResNet/MyDrive/cats_and_dogs_filtered/train/cats/cat.877.jpg', '/ResNet/MyDrive/cats_and_dogs_filtered/train/cats/cat.879.jpg', '/ResNet/MyDrive/cats_and_dogs_filtered/train/cats/cat.878.jpg', '/ResNet/MyDrive/cats_and_dogs_filtered/train/cats/cat.88.jpg', '/ResNet/MyDrive/cats_and_dogs_filtered/train/cats/cat.876.jpg', '/ResNet/MyDrive/cats_and_dogs_filtered/train/cats/cat.880.jpg', '/ResNet/MyDrive/cats_and_dogs_filtered/train/cats/cat.883.jpg', '/ResNet/MyDrive/cats_and_dogs_filtered/train/cats/cat.881.jpg', '/ResNet/MyDrive/cats_and_dogs_filtered/train/cats/cat.884.jpg', '/ResNet/MyDrive/cats_and_dogs_filtered/train/cats/cat.885.jpg', '/ResNet/MyDrive/cats_and_dogs_filtered/train/cats/cat.882.jpg', '/ResNet/MyDrive/cats_and_dogs_filtered/train/cats/cat.889.jpg', '/ResNet/MyDrive/cats_and_dogs_filtered/train/cats/cat.887.jpg', '/ResNet/MyDrive/cats_and_dogs_filtered/train/cats/cat.888.jpg', '/ResNet/MyDrive/cats_and_dogs_filtered/train/cats/cat.89.jpg', '/ResNet/MyDrive/cats_and_dogs_filtered/train/cats/cat.890.jpg', '/ResNet/MyDrive/cats_and_dogs_filtered/train/cats/cat.886.jpg', '/ResNet/MyDrive/cats_and_dogs_filtered/train/cats/cat.891.jpg', '/ResNet/MyDrive/cats_and_dogs_filtered/train/cats/cat.893.jpg', '/ResNet/MyDrive/cats_and_dogs_filtered/train/cats/cat.892.jpg', '/ResNet/MyDrive/cats_and_dogs_filtered/train/cats/cat.895.jpg', '/ResNet/MyDrive/cats_and_dogs_filtered/train/cats/cat.894.jpg', '/ResNet/MyDrive/cats_and_dogs_filtered/train/cats/cat.898.jpg', '/ResNet/MyDrive/cats_and_dogs_filtered/train/cats/cat.896.jpg', '/ResNet/MyDrive/cats_and_dogs_filtered/train/cats/cat.9.jpg', '/ResNet/MyDrive/cats_and_dogs_filtered/train/cats/cat.901.jpg', '/ResNet/MyDrive/cats_and_dogs_filtered/train/cats/cat.90.jpg', '/ResNet/MyDrive/cats_and_dogs_filtered/train/cats/cat.900.jpg', '/ResNet/MyDrive/cats_and_dogs_filtered/train/cats/cat.899.jpg', '/ResNet/MyDrive/cats_and_dogs_filtered/train/cats/cat.897.jpg', '/ResNet/MyDrive/cats_and_dogs_filtered/train/cats/cat.905.jpg', '/ResNet/MyDrive/cats_and_dogs_filtered/train/cats/cat.903.jpg', '/ResNet/MyDrive/cats_and_dogs_filtered/train/cats/cat.906.jpg', '/ResNet/MyDrive/cats_and_dogs_filtered/train/cats/cat.902.jpg', '/ResNet/MyDrive/cats_and_dogs_filtered/train/cats/cat.904.jpg', '/ResNet/MyDrive/cats_and_dogs_filtered/train/cats/cat.912.jpg', '/ResNet/MyDrive/cats_and_dogs_filtered/train/cats/cat.909.jpg', '/ResNet/MyDrive/cats_and_dogs_filtered/train/cats/cat.911.jpg', '/ResNet/MyDrive/cats_and_dogs_filtered/train/cats/cat.91.jpg', '/ResNet/MyDrive/cats_and_dogs_filtered/train/cats/cat.907.jpg', '/ResNet/MyDrive/cats_and_dogs_filtered/train/cats/cat.908.jpg', '/ResNet/MyDrive/cats_and_dogs_filtered/train/cats/cat.910.jpg', '/ResNet/MyDrive/cats_and_dogs_filtered/train/cats/cat.915.jpg', '/ResNet/MyDrive/cats_and_dogs_filtered/train/cats/cat.913.jpg', '/ResNet/MyDrive/cats_and_dogs_filtered/train/cats/cat.914.jpg', '/ResNet/MyDrive/cats_and_dogs_filtered/train/cats/cat.916.jpg', '/ResNet/MyDrive/cats_and_dogs_filtered/train/cats/cat.917.jpg', '/ResNet/MyDrive/cats_and_dogs_filtered/train/cats/cat.921.jpg', '/ResNet/MyDrive/cats_and_dogs_filtered/train/cats/cat.920.jpg', '/ResNet/MyDrive/cats_and_dogs_filtered/train/cats/cat.918.jpg', '/ResNet/MyDrive/cats_and_dogs_filtered/train/cats/cat.923.jpg', '/ResNet/MyDrive/cats_and_dogs_filtered/train/cats/cat.922.jpg', '/ResNet/MyDrive/cats_and_dogs_filtered/train/cats/cat.92.jpg', '/ResNet/MyDrive/cats_and_dogs_filtered/train/cats/cat.919.jpg', '/ResNet/MyDrive/cats_and_dogs_filtered/train/cats/cat.928.jpg', '/ResNet/MyDrive/cats_and_dogs_filtered/train/cats/cat.929.jpg', '/ResNet/MyDrive/cats_and_dogs_filtered/train/cats/cat.925.jpg', '/ResNet/MyDrive/cats_and_dogs_filtered/train/cats/cat.924.jpg', '/ResNet/MyDrive/cats_and_dogs_filtered/train/cats/cat.927.jpg', '/ResNet/MyDrive/cats_and_dogs_filtered/train/cats/cat.926.jpg', '/ResNet/MyDrive/cats_and_dogs_filtered/train/cats/cat.932.jpg', '/ResNet/MyDrive/cats_and_dogs_filtered/train/cats/cat.933.jpg', '/ResNet/MyDrive/cats_and_dogs_filtered/train/cats/cat.935.jpg', '/ResNet/MyDrive/cats_and_dogs_filtered/train/cats/cat.930.jpg', '/ResNet/MyDrive/cats_and_dogs_filtered/train/cats/cat.931.jpg', '/ResNet/MyDrive/cats_and_dogs_filtered/train/cats/cat.934.jpg', '/ResNet/MyDrive/cats_and_dogs_filtered/train/cats/cat.93.jpg', '/ResNet/MyDrive/cats_and_dogs_filtered/train/cats/cat.941.jpg', '/ResNet/MyDrive/cats_and_dogs_filtered/train/cats/cat.94.jpg', '/ResNet/MyDrive/cats_and_dogs_filtered/train/cats/cat.939.jpg', '/ResNet/MyDrive/cats_and_dogs_filtered/train/cats/cat.940.jpg', '/ResNet/MyDrive/cats_and_dogs_filtered/train/cats/cat.937.jpg', '/ResNet/MyDrive/cats_and_dogs_filtered/train/cats/cat.936.jpg', '/ResNet/MyDrive/cats_and_dogs_filtered/train/cats/cat.938.jpg', '/ResNet/MyDrive/cats_and_dogs_filtered/train/cats/cat.947.jpg', '/ResNet/MyDrive/cats_and_dogs_filtered/train/cats/cat.946.jpg', '/ResNet/MyDrive/cats_and_dogs_filtered/train/cats/cat.942.jpg', '/ResNet/MyDrive/cats_and_dogs_filtered/train/cats/cat.945.jpg', '/ResNet/MyDrive/cats_and_dogs_filtered/train/cats/cat.943.jpg', '/ResNet/MyDrive/cats_and_dogs_filtered/train/cats/cat.944.jpg', '/ResNet/MyDrive/cats_and_dogs_filtered/train/cats/cat.951.jpg', '/ResNet/MyDrive/cats_and_dogs_filtered/train/cats/cat.948.jpg', '/ResNet/MyDrive/cats_and_dogs_filtered/train/cats/cat.95.jpg', '/ResNet/MyDrive/cats_and_dogs_filtered/train/cats/cat.950.jpg', '/ResNet/MyDrive/cats_and_dogs_filtered/train/cats/cat.952.jpg', '/ResNet/MyDrive/cats_and_dogs_filtered/train/cats/cat.953.jpg', '/ResNet/MyDrive/cats_and_dogs_filtered/train/cats/cat.949.jpg', '/ResNet/MyDrive/cats_and_dogs_filtered/train/cats/cat.958.jpg', '/ResNet/MyDrive/cats_and_dogs_filtered/train/cats/cat.955.jpg', '/ResNet/MyDrive/cats_and_dogs_filtered/train/cats/cat.957.jpg', '/ResNet/MyDrive/cats_and_dogs_filtered/train/cats/cat.959.jpg', '/ResNet/MyDrive/cats_and_dogs_filtered/train/cats/cat.954.jpg', '/ResNet/MyDrive/cats_and_dogs_filtered/train/cats/cat.956.jpg', '/ResNet/MyDrive/cats_and_dogs_filtered/train/cats/cat.965.jpg', '/ResNet/MyDrive/cats_and_dogs_filtered/train/cats/cat.96.jpg', '/ResNet/MyDrive/cats_and_dogs_filtered/train/cats/cat.960.jpg', '/ResNet/MyDrive/cats_and_dogs_filtered/train/cats/cat.962.jpg', '/ResNet/MyDrive/cats_and_dogs_filtered/train/cats/cat.964.jpg', '/ResNet/MyDrive/cats_and_dogs_filtered/train/cats/cat.961.jpg', '/ResNet/MyDrive/cats_and_dogs_filtered/train/cats/cat.963.jpg', '/ResNet/MyDrive/cats_and_dogs_filtered/train/cats/cat.968.jpg', '/ResNet/MyDrive/cats_and_dogs_filtered/train/cats/cat.969.jpg', '/ResNet/MyDrive/cats_and_dogs_filtered/train/cats/cat.97.jpg', '/ResNet/MyDrive/cats_and_dogs_filtered/train/cats/cat.970.jpg', '/ResNet/MyDrive/cats_and_dogs_filtered/train/cats/cat.967.jpg', '/ResNet/MyDrive/cats_and_dogs_filtered/train/cats/cat.966.jpg', '/ResNet/MyDrive/cats_and_dogs_filtered/train/cats/cat.976.jpg', '/ResNet/MyDrive/cats_and_dogs_filtered/train/cats/cat.972.jpg', '/ResNet/MyDrive/cats_and_dogs_filtered/train/cats/cat.973.jpg', '/ResNet/MyDrive/cats_and_dogs_filtered/train/cats/cat.971.jpg', '/ResNet/MyDrive/cats_and_dogs_filtered/train/cats/cat.975.jpg', '/ResNet/MyDrive/cats_and_dogs_filtered/train/cats/cat.974.jpg', '/ResNet/MyDrive/cats_and_dogs_filtered/train/cats/cat.980.jpg', '/ResNet/MyDrive/cats_and_dogs_filtered/train/cats/cat.98.jpg', '/ResNet/MyDrive/cats_and_dogs_filtered/train/cats/cat.977.jpg', '/ResNet/MyDrive/cats_and_dogs_filtered/train/cats/cat.979.jpg', '/ResNet/MyDrive/cats_and_dogs_filtered/train/cats/cat.982.jpg', '/ResNet/MyDrive/cats_and_dogs_filtered/train/cats/cat.981.jpg', '/ResNet/MyDrive/cats_and_dogs_filtered/train/cats/cat.978.jpg', '/ResNet/MyDrive/cats_and_dogs_filtered/train/cats/cat.987.jpg', '/ResNet/MyDrive/cats_and_dogs_filtered/train/cats/cat.988.jpg', '/ResNet/MyDrive/cats_and_dogs_filtered/train/cats/cat.985.jpg', '/ResNet/MyDrive/cats_and_dogs_filtered/train/cats/cat.983.jpg', '/ResNet/MyDrive/cats_and_dogs_filtered/train/cats/cat.986.jpg', '/ResNet/MyDrive/cats_and_dogs_filtered/train/cats/cat.984.jpg', '/ResNet/MyDrive/cats_and_dogs_filtered/train/cats/cat.992.jpg', '/ResNet/MyDrive/cats_and_dogs_filtered/train/cats/cat.989.jpg', '/ResNet/MyDrive/cats_and_dogs_filtered/train/cats/cat.990.jpg', '/ResNet/MyDrive/cats_and_dogs_filtered/train/cats/cat.99.jpg', '/ResNet/MyDrive/cats_and_dogs_filtered/train/cats/cat.991.jpg', '/ResNet/MyDrive/cats_and_dogs_filtered/train/cats/cat.993.jpg', '/ResNet/MyDrive/cats_and_dogs_filtered/train/cats/cat.996.jpg', '/ResNet/MyDrive/cats_and_dogs_filtered/train/cats/cat.999.jpg', '/ResNet/MyDrive/cats_and_dogs_filtered/train/cats/cat.994.jpg', '/ResNet/MyDrive/cats_and_dogs_filtered/train/cats/cat.995.jpg', '/ResNet/MyDrive/cats_and_dogs_filtered/train/cats/cat.997.jpg', '/ResNet/MyDrive/cats_and_dogs_filtered/train/cats/cat.998.jpg']\n"
          ],
          "name": "stdout"
        }
      ]
    },
    {
      "cell_type": "code",
      "metadata": {
        "id": "EZacUUeCrDpm"
      },
      "source": [
        "#it requires some times(8 minutes)\n",
        "train_set_x,train_set_y=prepare_data(train_images)\n",
        "\n"
      ],
      "execution_count": null,
      "outputs": []
    },
    {
      "cell_type": "code",
      "metadata": {
        "colab": {
          "base_uri": "https://localhost:8080/"
        },
        "id": "NxZQHmppX8rF",
        "outputId": "7c469efa-4bf5-40c4-ece5-e4e5921acc15"
      },
      "source": [
        "print('train_set_x : ',train_set_x.shape)\n",
        "print('train_set_y : ',train_set_y.shape)"
      ],
      "execution_count": null,
      "outputs": [
        {
          "output_type": "stream",
          "text": [
            "train_set_x :  (1000, 64, 64, 3)\n",
            "train_set_y :  (1, 1000)\n"
          ],
          "name": "stdout"
        }
      ]
    },
    {
      "cell_type": "code",
      "metadata": {
        "id": "UP9VJm0tee8w"
      },
      "source": [
        "for i in range(0,len(test_dogs_cats)):\n",
        "  test_images=[test_dogs_cats[i]+j for j in os.listdir(test_dogs_cats[i])]"
      ],
      "execution_count": null,
      "outputs": []
    },
    {
      "cell_type": "code",
      "metadata": {
        "id": "nzcF2U9hXLGD"
      },
      "source": [
        "#t requires some times(4 minutes)\n",
        "test_set_x,test_set_y=prepare_data(test_images)\n"
      ],
      "execution_count": null,
      "outputs": []
    },
    {
      "cell_type": "code",
      "metadata": {
        "colab": {
          "base_uri": "https://localhost:8080/"
        },
        "id": "IY57QfBWXLKT",
        "outputId": "302c88fb-7244-4046-a76b-d1f340fac7b8"
      },
      "source": [
        "print('test_set_x : ',test_set_x.shape)\n",
        "print('test_set_y : ',test_set_y.shape)\n"
      ],
      "execution_count": null,
      "outputs": [
        {
          "output_type": "stream",
          "text": [
            "test_set_x :  (500, 64, 64, 3)\n",
            "test_set_y :  (1, 500)\n"
          ],
          "name": "stdout"
        }
      ]
    },
    {
      "cell_type": "code",
      "metadata": {
        "id": "25wfGPZen0E8"
      },
      "source": [
        "x_train=train_set_x/255\n",
        "x_test=test_set_x/255"
      ],
      "execution_count": null,
      "outputs": []
    },
    {
      "cell_type": "code",
      "metadata": {
        "id": "ZQ2DRAldqjUF"
      },
      "source": [
        "def convert_to_one_hot(y,c):\n",
        "  yy=np.eye(c)\n",
        "  #print(yy)\n",
        "  r=y.reshape(-1).T\n",
        "  #print(r.shape)\n",
        "  yy=np.eye(c)[y.reshape(-1)].T\n",
        "\n",
        "  return yy\n"
      ],
      "execution_count": null,
      "outputs": []
    },
    {
      "cell_type": "code",
      "metadata": {
        "colab": {
          "base_uri": "https://localhost:8080/"
        },
        "id": "XhevhXTnqjW-",
        "outputId": "b5a1275d-10f3-41c8-ee41-7ebb6acf733d"
      },
      "source": [
        "y_train=convert_to_one_hot(train_set_y,classes)\n",
        "y_train"
      ],
      "execution_count": null,
      "outputs": [
        {
          "output_type": "execute_result",
          "data": {
            "text/plain": [
              "array([[0., 0., 0., ..., 0., 0., 0.],\n",
              "       [1., 1., 1., ..., 1., 1., 1.]])"
            ]
          },
          "metadata": {
            "tags": []
          },
          "execution_count": 21
        }
      ]
    },
    {
      "cell_type": "code",
      "metadata": {
        "colab": {
          "base_uri": "https://localhost:8080/"
        },
        "id": "JEAy0dwHqlek",
        "outputId": "b31bd4a7-0dae-4ffe-f4e5-454830613af3"
      },
      "source": [
        "y_train=convert_to_one_hot(train_set_y,classes).T\n",
        "y_train"
      ],
      "execution_count": null,
      "outputs": [
        {
          "output_type": "execute_result",
          "data": {
            "text/plain": [
              "array([[0., 1.],\n",
              "       [0., 1.],\n",
              "       [0., 1.],\n",
              "       ...,\n",
              "       [0., 1.],\n",
              "       [0., 1.],\n",
              "       [0., 1.]])"
            ]
          },
          "metadata": {
            "tags": []
          },
          "execution_count": 22
        }
      ]
    },
    {
      "cell_type": "code",
      "metadata": {
        "id": "OTk9jvsXspVK"
      },
      "source": [
        "y_test=convert_to_one_hot(test_set_y,classes).T\n",
        "#y_test"
      ],
      "execution_count": null,
      "outputs": []
    },
    {
      "cell_type": "code",
      "metadata": {
        "id": "nBtezrGIqlkB",
        "colab": {
          "base_uri": "https://localhost:8080/"
        },
        "outputId": "bb3423f1-e2ef-4b0b-cf3e-1d2d0a635c4a"
      },
      "source": [
        "print('train_set_x : ',train_set_x.shape)\n",
        "print('train_set_y : ',train_set_y.shape)\n",
        "print('test_set_x : ',test_set_x.shape)\n",
        "print('test_set_y : ',test_set_y.shape)\n",
        "print('#################################')\n",
        "print('x_train : ',x_train.shape)\n",
        "print('x_test : ',x_test.shape)\n",
        "print('y_train : ',y_train.shape)\n",
        "print('y_test : ',y_test.shape)"
      ],
      "execution_count": null,
      "outputs": [
        {
          "output_type": "stream",
          "text": [
            "train_set_x :  (1000, 64, 64, 3)\n",
            "train_set_y :  (1, 1000)\n",
            "test_set_x :  (500, 64, 64, 3)\n",
            "test_set_y :  (1, 500)\n",
            "#################################\n",
            "x_train :  (1000, 64, 64, 3)\n",
            "x_test :  (500, 64, 64, 3)\n",
            "y_train :  (1000, 2)\n",
            "y_test :  (500, 2)\n"
          ],
          "name": "stdout"
        }
      ]
    },
    {
      "cell_type": "code",
      "metadata": {
        "id": "tR8WGODRrkkR"
      },
      "source": [
        ""
      ],
      "execution_count": null,
      "outputs": []
    },
    {
      "cell_type": "code",
      "metadata": {
        "id": "4UFu-BrOrMFm"
      },
      "source": [
        "def identity_block(x,f,filters,stage,block):\n",
        "  #defining name basis\n",
        "  conv_name_base='res'+str(stage)+block+'_branch'\n",
        "  bn_name_base='bn'+str(stage)+block+'_branch'\n",
        "  #retrieve filter\n",
        "  f1,f2,f3=filters\n",
        "  #save the input value. it will be needed later to add back to the main path\n",
        "  x_shortcut=x\n",
        "\n",
        "  #first component of main path\n",
        "  x=Conv2D(filters=f1,kernel_size=(1,1),strides=(1,1),padding='valid',\n",
        "           name=conv_name_base+'2a',\n",
        "           #The neural network needs to start with some weights and then iteratively update them \n",
        "           #to better values. The term kernel_initializer is a fancy term for which statistical \n",
        "           #distribution or function to use for initialising the weights.\n",
        "           ##############################################\n",
        "           #seed: A Python integer Used to seed the random generator.\n",
        "           #seed: A Python integer An initializer created with a given seed will always produce \n",
        "           #the same random tensor for a given shape and dtype.\n",
        "           kernel_initializer=glorot_uniform(seed=0))(x)\n",
        "#If the dimension is [height, width, channel] then the axis is 3. The batch is not part of the input dimension.\n",
        "  x=BatchNormalization(axis=3,name=bn_name_base+'2a')(x)\n",
        "  x=Activation('relu')(x)\n",
        "\n",
        "  #second component of main path\n",
        "  x=Conv2D(filters=f2,kernel_size=(f,f),strides=(1,1),padding='same',\n",
        "           #if padding='valid dei tobe error pabo cause x & x_shortcut size same hobe na\n",
        "           #so x & x_shortcut size same korar jonno########## padding='same' dibo############\n",
        "           #brief #https://www.nuomiphp.com/eplan/en/21119.html\n",
        "           name=conv_name_base+'2b',\n",
        "           kernel_initializer=glorot_uniform(seed=0))(x)\n",
        "  x=BatchNormalization(axis=3,name=bn_name_base+'2b')(x)\n",
        "  x=Activation('relu')(x)\n",
        "\n",
        "  #third component of main path\n",
        "  x=Conv2D(filters=f3,kernel_size=(1,1),strides=(1,1),padding='valid',\n",
        "           name=conv_name_base+'2c',\n",
        "           kernel_initializer=glorot_uniform(seed=0))(x)\n",
        "  x=BatchNormalization(axis=3,name=bn_name_base+'2c')(x)\n",
        "\n",
        "  #Final step:add shortcut value to main path and pass it through a relu activation\n",
        "  x=Add()([x_shortcut,x])\n",
        "  x=Activation('relu')(x)\n",
        "\n",
        "  return x\n",
        "\n",
        "\n"
      ],
      "execution_count": null,
      "outputs": []
    },
    {
      "cell_type": "code",
      "metadata": {
        "id": "99pBqFGLpo60"
      },
      "source": [
        ""
      ],
      "execution_count": null,
      "outputs": []
    },
    {
      "cell_type": "code",
      "metadata": {
        "id": "5BKWf8wYrMOd",
        "colab": {
          "base_uri": "https://localhost:8080/"
        },
        "outputId": "7d96c753-7ad1-40c0-a498-964e8a8fe4f8"
      },
      "source": [
        "###########test whether the identity_block is working#############\n",
        "from tensorflow.python.framework import ops\n",
        "import tensorflow.compat.v1 as tfv\n",
        "ops.reset_default_graph()\n",
        "with tfv.compat.v1.Session() as test:\n",
        "    A_prev = tfv.placeholder(\"float\", [3, 4, 4, 6])\n",
        "    X = np.random.randn(3, 4, 4, 6)\n",
        "    A = identity_block(A_prev, f = 1, filters = [2, 4, 6], stage = 1, block = 'a')\n",
        "    test.run(tfv.global_variables_initializer())\n",
        "    out = test.run([A], feed_dict={A_prev: X, K.learning_phase(): 0})\n",
        "    print(\"out = \", out[0][1][1][0])"
      ],
      "execution_count": null,
      "outputs": [
        {
          "output_type": "stream",
          "text": [
            "out =  [0.74347335 1.3277023  0.         0.         0.         1.0553493 ]\n"
          ],
          "name": "stdout"
        }
      ]
    },
    {
      "cell_type": "code",
      "metadata": {
        "id": "wiV_a6kyiFbP"
      },
      "source": [
        "def convolutional_block(x,f,filters,stage,block,s=2):\n",
        "  conv_name_base='res'+str(stage)+block+'_branch'\n",
        "  bn_name_base='bn'+str(stage)+block+'_branch'\n",
        "  #retrieve the filters\n",
        "  f1,f2,f3=filters\n",
        "  #save the input data\n",
        "  x_shortcut=x\n",
        "  ############### main path ################\n",
        "  #first component of main path\n",
        "  x=Conv2D(filters=f1,kernel_size=(1,1),strides=(s,s),\n",
        "           name=conv_name_base+'2a',\n",
        "           #The neural network needs to start with some weights and then iteratively update them \n",
        "           #to better values. The term kernel_initializer is a fancy term for which statistical \n",
        "           #distribution or function to use for initialising the weights.\n",
        "           ##############################################\n",
        "           #seed: A Python integer Used to seed the random generator.\n",
        "           #seed: A Python integer An initializer created with a given seed will always produce \n",
        "           #the same random tensor for a given shape and dtype.\n",
        "           kernel_initializer=glorot_uniform(seed=0))(x)\n",
        "#If the dimension is [height, width, channel] then the axis is 3. The batch is not part of the input dimension. \n",
        "  x=BatchNormalization(axis=3,name=bn_name_base+'2a')(x)\n",
        "  x=Activation('relu')(x)\n",
        "\n",
        "#second component of main path\n",
        "  x=Conv2D(filters=f2,kernel_size=(f,f),strides=(1,1),padding='same',\n",
        "           name=conv_name_base+'2b',\n",
        "           kernel_initializer=glorot_uniform(seed=0))(x)\n",
        "  x=BatchNormalization(axis=3,name=bn_name_base+'2b')(x)\n",
        "  x=Activation('relu')(x)\n",
        "\n",
        "#third component of main path\n",
        "  x=Conv2D(filters=f3,kernel_size=(1,1),strides=(1,1),padding='valid',\n",
        "           name=conv_name_base+'2c',\n",
        "           kernel_initializer=glorot_uniform(seed=0))(x)\n",
        "\n",
        "  x=BatchNormalization(axis=3,name=bn_name_base+'2c')(x)\n",
        "\n",
        "############# shortcut path ##############\n",
        "  x_shortcut=Conv2D(filters=f3,kernel_size=(1,1),strides=(s,s),\n",
        "                  name=conv_name_base+'1',\n",
        "                  kernel_initializer=glorot_uniform(seed=0))(x_shortcut)\n",
        "  x_shortcut=BatchNormalization(axis=3,name=bn_name_base+'1')(x_shortcut)\n",
        "\n",
        "########final path##########\n",
        "  x=Add()([x,x_shortcut])\n",
        "  x=Activation('relu')(x)\n",
        "  return x\n",
        "\n"
      ],
      "execution_count": null,
      "outputs": []
    },
    {
      "cell_type": "code",
      "metadata": {
        "id": "pg5ljITxXLQ8",
        "colab": {
          "base_uri": "https://localhost:8080/"
        },
        "outputId": "f8b5aa85-f8da-41d1-9af3-1f95a66feaea"
      },
      "source": [
        "###########test whether the convolutional_block is working#############\n",
        "from tensorflow.python.framework import ops\n",
        "import tensorflow.compat.v1 as tfv\n",
        "ops.reset_default_graph()\n",
        "with tfv.Session() as test:\n",
        "    A_prev = tfv.placeholder(\"float\", [3, 4, 4, 6])\n",
        "    X = np.random.randn(3, 4, 4, 6)\n",
        "    A = convolutional_block(A_prev, f = 2, filters = [2, 4, 6], stage = 1, block = 'a')\n",
        "    test.run(tfv.global_variables_initializer())\n",
        "    out = test.run([A], feed_dict={A_prev: X, K.learning_phase(): 0})\n",
        "    print(\"out = \",out[0][1][1][0])"
      ],
      "execution_count": null,
      "outputs": [
        {
          "output_type": "stream",
          "text": [
            "out =  [0.        0.        0.        1.5865114 0.        0.       ]\n"
          ],
          "name": "stdout"
        }
      ]
    },
    {
      "cell_type": "code",
      "metadata": {
        "id": "bOAjZEFTiFeS"
      },
      "source": [
        "def ResNet50(input_shape=(64,64,3),classes=2):\n",
        "  x_input=Input(input_shape)\n",
        "  #Zero-paddng\n",
        "  x=ZeroPadding2D((3,3))(x_input)\n",
        "\n",
        "  #stage:1\n",
        "  x=Conv2D(filters=64,kernel_size=(7,7),strides=(2,2),name='conv1',\n",
        "           kernel_initializer=glorot_uniform(seed=0))(x)\n",
        "  x=BatchNormalization(axis=3,name='bn_conv1')(x)\n",
        "  x=Activation('relu')(x)\n",
        "  x=MaxPooling2D(pool_size=(3,3),strides=2)(x)\n",
        "\n",
        "  #stage:2\n",
        "  x=convolutional_block(x,f=3,filters=[64,64,256],stage=2,block='a',s=1)\n",
        "  x=identity_block(x,f=3,filters=[64,64,256],stage=2,block='b')\n",
        "  x=identity_block(x,f=3,filters=[64,64,256],stage=2,block='c')\n",
        "\n",
        "  #stage:3\n",
        "  x=convolutional_block(x,f=3,filters=[128,128,512],stage=3,block='a',s=2)\n",
        "  x=identity_block(x,f=3,filters=[128,128,512],stage=3,block='b')\n",
        "  x=identity_block(x,f=3,filters=[128,128,512],stage=3,block='c')\n",
        "  x=identity_block(x,f=3,filters=[128,128,512],stage=3,block='d')\n",
        "\n",
        "  #stage:4\n",
        "  x=convolutional_block(x,f=3,filters=[256,256,1024],stage=4,block='a',s=2)\n",
        "  x=identity_block(x,f=3,filters=[256,256,1024],stage=4,block='b')\n",
        "  x=identity_block(x,f=3,filters=[256,256,1024],stage=4,block='c')\n",
        "  x=identity_block(x,f=3,filters=[256,256,1024],stage=4,block='d')\n",
        "  x=identity_block(x,f=3,filters=[256,256,1024],stage=4,block='e')\n",
        "  x=identity_block(x,f=3,filters=[256,256,1024],stage=4,block='f')\n",
        "\n",
        "  #stage:5\n",
        "  x=convolutional_block(x,f=3,filters=[512,512,2048],stage=5,block='a',s=2)\n",
        "  x=identity_block(x,f=3,filters=[512,512,2048],stage=5,block='b')\n",
        "  x=identity_block(x,f=3,filters=[512,512,2048],stage=5,block='c')\n",
        "  \n",
        "  #AVGPooling\n",
        "  x=AveragePooling2D(pool_size=(2,2),name='avg_pool')(x)\n",
        " \n",
        "  #output layer\n",
        "  x=Flatten()(x)\n",
        "  x=Dense(classes,activation='softmax',kernel_initializer=glorot_uniform(seed=0))(x)\n",
        "\n",
        "  #create model\n",
        "  model = Model(inputs = x_input, outputs = x)\n",
        "  return model\n",
        "\n",
        "############ all the function at a image ######################\n",
        "#################plot_model(xception, to_file='model.png', show_shapes=True, show_layer_names=True)#################################"
      ],
      "execution_count": null,
      "outputs": []
    },
    {
      "cell_type": "code",
      "metadata": {
        "id": "A2cFlmZDJq66"
      },
      "source": [
        "#call the ResNet50\n",
        "model=ResNet50(input_shape=(rows,cols,channels),classes=classes)\n",
        "\n"
      ],
      "execution_count": null,
      "outputs": []
    },
    {
      "cell_type": "code",
      "metadata": {
        "id": "9pBp6SazJrAb"
      },
      "source": [
        "model.compile(loss='categorical_crossentropy',\n",
        "             #loss_weights={'main':1},\n",
        "             optimizer='adam',\n",
        "             metrics=['accuracy']\n",
        "             )\n",
        "    "
      ],
      "execution_count": null,
      "outputs": []
    },
    {
      "cell_type": "code",
      "metadata": {
        "colab": {
          "base_uri": "https://localhost:8080/"
        },
        "id": "f4bCdTfEiFg7",
        "outputId": "c5cac184-f84c-464a-cc3f-9dc1ef8f5c24"
      },
      "source": [
        "model.summary()"
      ],
      "execution_count": null,
      "outputs": [
        {
          "output_type": "stream",
          "text": [
            "Model: \"model_8\"\n",
            "__________________________________________________________________________________________________\n",
            "Layer (type)                    Output Shape         Param #     Connected to                     \n",
            "==================================================================================================\n",
            "input_25 (InputLayer)           [(None, 64, 64, 3)]  0                                            \n",
            "__________________________________________________________________________________________________\n",
            "zero_padding2d_12 (ZeroPadding2 (None, 70, 70, 3)    0           input_25[0][0]                   \n",
            "__________________________________________________________________________________________________\n",
            "conv1 (Conv2D)                  (None, 32, 32, 64)   9472        zero_padding2d_12[0][0]          \n",
            "__________________________________________________________________________________________________\n",
            "bn_conv1 (BatchNormalization)   (None, 32, 32, 64)   256         conv1[0][0]                      \n",
            "__________________________________________________________________________________________________\n",
            "activation_591 (Activation)     (None, 32, 32, 64)   0           bn_conv1[0][0]                   \n",
            "__________________________________________________________________________________________________\n",
            "max_pooling2d_12 (MaxPooling2D) (None, 15, 15, 64)   0           activation_591[0][0]             \n",
            "__________________________________________________________________________________________________\n",
            "res2a_branch2a (Conv2D)         (None, 15, 15, 64)   4160        max_pooling2d_12[0][0]           \n",
            "__________________________________________________________________________________________________\n",
            "bn2a_branch2a (BatchNormalizati (None, 15, 15, 64)   256         res2a_branch2a[0][0]             \n",
            "__________________________________________________________________________________________________\n",
            "activation_592 (Activation)     (None, 15, 15, 64)   0           bn2a_branch2a[0][0]              \n",
            "__________________________________________________________________________________________________\n",
            "res2a_branch2b (Conv2D)         (None, 15, 15, 64)   36928       activation_592[0][0]             \n",
            "__________________________________________________________________________________________________\n",
            "bn2a_branch2b (BatchNormalizati (None, 15, 15, 64)   256         res2a_branch2b[0][0]             \n",
            "__________________________________________________________________________________________________\n",
            "activation_593 (Activation)     (None, 15, 15, 64)   0           bn2a_branch2b[0][0]              \n",
            "__________________________________________________________________________________________________\n",
            "res2a_branch2c (Conv2D)         (None, 15, 15, 256)  16640       activation_593[0][0]             \n",
            "__________________________________________________________________________________________________\n",
            "res2a_branch1 (Conv2D)          (None, 15, 15, 256)  16640       max_pooling2d_12[0][0]           \n",
            "__________________________________________________________________________________________________\n",
            "bn2a_branch2c (BatchNormalizati (None, 15, 15, 256)  1024        res2a_branch2c[0][0]             \n",
            "__________________________________________________________________________________________________\n",
            "bn2a_branch1 (BatchNormalizatio (None, 15, 15, 256)  1024        res2a_branch1[0][0]              \n",
            "__________________________________________________________________________________________________\n",
            "add_193 (Add)                   (None, 15, 15, 256)  0           bn2a_branch2c[0][0]              \n",
            "                                                                 bn2a_branch1[0][0]               \n",
            "__________________________________________________________________________________________________\n",
            "activation_594 (Activation)     (None, 15, 15, 256)  0           add_193[0][0]                    \n",
            "__________________________________________________________________________________________________\n",
            "res2b_branch2a (Conv2D)         (None, 15, 15, 64)   16448       activation_594[0][0]             \n",
            "__________________________________________________________________________________________________\n",
            "bn2b_branch2a (BatchNormalizati (None, 15, 15, 64)   256         res2b_branch2a[0][0]             \n",
            "__________________________________________________________________________________________________\n",
            "activation_595 (Activation)     (None, 15, 15, 64)   0           bn2b_branch2a[0][0]              \n",
            "__________________________________________________________________________________________________\n",
            "res2b_branch2b (Conv2D)         (None, 15, 15, 64)   36928       activation_595[0][0]             \n",
            "__________________________________________________________________________________________________\n",
            "bn2b_branch2b (BatchNormalizati (None, 15, 15, 64)   256         res2b_branch2b[0][0]             \n",
            "__________________________________________________________________________________________________\n",
            "activation_596 (Activation)     (None, 15, 15, 64)   0           bn2b_branch2b[0][0]              \n",
            "__________________________________________________________________________________________________\n",
            "res2b_branch2c (Conv2D)         (None, 15, 15, 256)  16640       activation_596[0][0]             \n",
            "__________________________________________________________________________________________________\n",
            "bn2b_branch2c (BatchNormalizati (None, 15, 15, 256)  1024        res2b_branch2c[0][0]             \n",
            "__________________________________________________________________________________________________\n",
            "add_194 (Add)                   (None, 15, 15, 256)  0           activation_594[0][0]             \n",
            "                                                                 bn2b_branch2c[0][0]              \n",
            "__________________________________________________________________________________________________\n",
            "activation_597 (Activation)     (None, 15, 15, 256)  0           add_194[0][0]                    \n",
            "__________________________________________________________________________________________________\n",
            "res2c_branch2a (Conv2D)         (None, 15, 15, 64)   16448       activation_597[0][0]             \n",
            "__________________________________________________________________________________________________\n",
            "bn2c_branch2a (BatchNormalizati (None, 15, 15, 64)   256         res2c_branch2a[0][0]             \n",
            "__________________________________________________________________________________________________\n",
            "activation_598 (Activation)     (None, 15, 15, 64)   0           bn2c_branch2a[0][0]              \n",
            "__________________________________________________________________________________________________\n",
            "res2c_branch2b (Conv2D)         (None, 15, 15, 64)   36928       activation_598[0][0]             \n",
            "__________________________________________________________________________________________________\n",
            "bn2c_branch2b (BatchNormalizati (None, 15, 15, 64)   256         res2c_branch2b[0][0]             \n",
            "__________________________________________________________________________________________________\n",
            "activation_599 (Activation)     (None, 15, 15, 64)   0           bn2c_branch2b[0][0]              \n",
            "__________________________________________________________________________________________________\n",
            "res2c_branch2c (Conv2D)         (None, 15, 15, 256)  16640       activation_599[0][0]             \n",
            "__________________________________________________________________________________________________\n",
            "bn2c_branch2c (BatchNormalizati (None, 15, 15, 256)  1024        res2c_branch2c[0][0]             \n",
            "__________________________________________________________________________________________________\n",
            "add_195 (Add)                   (None, 15, 15, 256)  0           activation_597[0][0]             \n",
            "                                                                 bn2c_branch2c[0][0]              \n",
            "__________________________________________________________________________________________________\n",
            "activation_600 (Activation)     (None, 15, 15, 256)  0           add_195[0][0]                    \n",
            "__________________________________________________________________________________________________\n",
            "res3a_branch2a (Conv2D)         (None, 8, 8, 128)    32896       activation_600[0][0]             \n",
            "__________________________________________________________________________________________________\n",
            "bn3a_branch2a (BatchNormalizati (None, 8, 8, 128)    512         res3a_branch2a[0][0]             \n",
            "__________________________________________________________________________________________________\n",
            "activation_601 (Activation)     (None, 8, 8, 128)    0           bn3a_branch2a[0][0]              \n",
            "__________________________________________________________________________________________________\n",
            "res3a_branch2b (Conv2D)         (None, 8, 8, 128)    147584      activation_601[0][0]             \n",
            "__________________________________________________________________________________________________\n",
            "bn3a_branch2b (BatchNormalizati (None, 8, 8, 128)    512         res3a_branch2b[0][0]             \n",
            "__________________________________________________________________________________________________\n",
            "activation_602 (Activation)     (None, 8, 8, 128)    0           bn3a_branch2b[0][0]              \n",
            "__________________________________________________________________________________________________\n",
            "res3a_branch2c (Conv2D)         (None, 8, 8, 512)    66048       activation_602[0][0]             \n",
            "__________________________________________________________________________________________________\n",
            "res3a_branch1 (Conv2D)          (None, 8, 8, 512)    131584      activation_600[0][0]             \n",
            "__________________________________________________________________________________________________\n",
            "bn3a_branch2c (BatchNormalizati (None, 8, 8, 512)    2048        res3a_branch2c[0][0]             \n",
            "__________________________________________________________________________________________________\n",
            "bn3a_branch1 (BatchNormalizatio (None, 8, 8, 512)    2048        res3a_branch1[0][0]              \n",
            "__________________________________________________________________________________________________\n",
            "add_196 (Add)                   (None, 8, 8, 512)    0           bn3a_branch2c[0][0]              \n",
            "                                                                 bn3a_branch1[0][0]               \n",
            "__________________________________________________________________________________________________\n",
            "activation_603 (Activation)     (None, 8, 8, 512)    0           add_196[0][0]                    \n",
            "__________________________________________________________________________________________________\n",
            "res3b_branch2a (Conv2D)         (None, 8, 8, 128)    65664       activation_603[0][0]             \n",
            "__________________________________________________________________________________________________\n",
            "bn3b_branch2a (BatchNormalizati (None, 8, 8, 128)    512         res3b_branch2a[0][0]             \n",
            "__________________________________________________________________________________________________\n",
            "activation_604 (Activation)     (None, 8, 8, 128)    0           bn3b_branch2a[0][0]              \n",
            "__________________________________________________________________________________________________\n",
            "res3b_branch2b (Conv2D)         (None, 8, 8, 128)    147584      activation_604[0][0]             \n",
            "__________________________________________________________________________________________________\n",
            "bn3b_branch2b (BatchNormalizati (None, 8, 8, 128)    512         res3b_branch2b[0][0]             \n",
            "__________________________________________________________________________________________________\n",
            "activation_605 (Activation)     (None, 8, 8, 128)    0           bn3b_branch2b[0][0]              \n",
            "__________________________________________________________________________________________________\n",
            "res3b_branch2c (Conv2D)         (None, 8, 8, 512)    66048       activation_605[0][0]             \n",
            "__________________________________________________________________________________________________\n",
            "bn3b_branch2c (BatchNormalizati (None, 8, 8, 512)    2048        res3b_branch2c[0][0]             \n",
            "__________________________________________________________________________________________________\n",
            "add_197 (Add)                   (None, 8, 8, 512)    0           activation_603[0][0]             \n",
            "                                                                 bn3b_branch2c[0][0]              \n",
            "__________________________________________________________________________________________________\n",
            "activation_606 (Activation)     (None, 8, 8, 512)    0           add_197[0][0]                    \n",
            "__________________________________________________________________________________________________\n",
            "res3c_branch2a (Conv2D)         (None, 8, 8, 128)    65664       activation_606[0][0]             \n",
            "__________________________________________________________________________________________________\n",
            "bn3c_branch2a (BatchNormalizati (None, 8, 8, 128)    512         res3c_branch2a[0][0]             \n",
            "__________________________________________________________________________________________________\n",
            "activation_607 (Activation)     (None, 8, 8, 128)    0           bn3c_branch2a[0][0]              \n",
            "__________________________________________________________________________________________________\n",
            "res3c_branch2b (Conv2D)         (None, 8, 8, 128)    147584      activation_607[0][0]             \n",
            "__________________________________________________________________________________________________\n",
            "bn3c_branch2b (BatchNormalizati (None, 8, 8, 128)    512         res3c_branch2b[0][0]             \n",
            "__________________________________________________________________________________________________\n",
            "activation_608 (Activation)     (None, 8, 8, 128)    0           bn3c_branch2b[0][0]              \n",
            "__________________________________________________________________________________________________\n",
            "res3c_branch2c (Conv2D)         (None, 8, 8, 512)    66048       activation_608[0][0]             \n",
            "__________________________________________________________________________________________________\n",
            "bn3c_branch2c (BatchNormalizati (None, 8, 8, 512)    2048        res3c_branch2c[0][0]             \n",
            "__________________________________________________________________________________________________\n",
            "add_198 (Add)                   (None, 8, 8, 512)    0           activation_606[0][0]             \n",
            "                                                                 bn3c_branch2c[0][0]              \n",
            "__________________________________________________________________________________________________\n",
            "activation_609 (Activation)     (None, 8, 8, 512)    0           add_198[0][0]                    \n",
            "__________________________________________________________________________________________________\n",
            "res3d_branch2a (Conv2D)         (None, 8, 8, 128)    65664       activation_609[0][0]             \n",
            "__________________________________________________________________________________________________\n",
            "bn3d_branch2a (BatchNormalizati (None, 8, 8, 128)    512         res3d_branch2a[0][0]             \n",
            "__________________________________________________________________________________________________\n",
            "activation_610 (Activation)     (None, 8, 8, 128)    0           bn3d_branch2a[0][0]              \n",
            "__________________________________________________________________________________________________\n",
            "res3d_branch2b (Conv2D)         (None, 8, 8, 128)    147584      activation_610[0][0]             \n",
            "__________________________________________________________________________________________________\n",
            "bn3d_branch2b (BatchNormalizati (None, 8, 8, 128)    512         res3d_branch2b[0][0]             \n",
            "__________________________________________________________________________________________________\n",
            "activation_611 (Activation)     (None, 8, 8, 128)    0           bn3d_branch2b[0][0]              \n",
            "__________________________________________________________________________________________________\n",
            "res3d_branch2c (Conv2D)         (None, 8, 8, 512)    66048       activation_611[0][0]             \n",
            "__________________________________________________________________________________________________\n",
            "bn3d_branch2c (BatchNormalizati (None, 8, 8, 512)    2048        res3d_branch2c[0][0]             \n",
            "__________________________________________________________________________________________________\n",
            "add_199 (Add)                   (None, 8, 8, 512)    0           activation_609[0][0]             \n",
            "                                                                 bn3d_branch2c[0][0]              \n",
            "__________________________________________________________________________________________________\n",
            "activation_612 (Activation)     (None, 8, 8, 512)    0           add_199[0][0]                    \n",
            "__________________________________________________________________________________________________\n",
            "res4a_branch2a (Conv2D)         (None, 4, 4, 256)    131328      activation_612[0][0]             \n",
            "__________________________________________________________________________________________________\n",
            "bn4a_branch2a (BatchNormalizati (None, 4, 4, 256)    1024        res4a_branch2a[0][0]             \n",
            "__________________________________________________________________________________________________\n",
            "activation_613 (Activation)     (None, 4, 4, 256)    0           bn4a_branch2a[0][0]              \n",
            "__________________________________________________________________________________________________\n",
            "res4a_branch2b (Conv2D)         (None, 4, 4, 256)    590080      activation_613[0][0]             \n",
            "__________________________________________________________________________________________________\n",
            "bn4a_branch2b (BatchNormalizati (None, 4, 4, 256)    1024        res4a_branch2b[0][0]             \n",
            "__________________________________________________________________________________________________\n",
            "activation_614 (Activation)     (None, 4, 4, 256)    0           bn4a_branch2b[0][0]              \n",
            "__________________________________________________________________________________________________\n",
            "res4a_branch2c (Conv2D)         (None, 4, 4, 1024)   263168      activation_614[0][0]             \n",
            "__________________________________________________________________________________________________\n",
            "res4a_branch1 (Conv2D)          (None, 4, 4, 1024)   525312      activation_612[0][0]             \n",
            "__________________________________________________________________________________________________\n",
            "bn4a_branch2c (BatchNormalizati (None, 4, 4, 1024)   4096        res4a_branch2c[0][0]             \n",
            "__________________________________________________________________________________________________\n",
            "bn4a_branch1 (BatchNormalizatio (None, 4, 4, 1024)   4096        res4a_branch1[0][0]              \n",
            "__________________________________________________________________________________________________\n",
            "add_200 (Add)                   (None, 4, 4, 1024)   0           bn4a_branch2c[0][0]              \n",
            "                                                                 bn4a_branch1[0][0]               \n",
            "__________________________________________________________________________________________________\n",
            "activation_615 (Activation)     (None, 4, 4, 1024)   0           add_200[0][0]                    \n",
            "__________________________________________________________________________________________________\n",
            "res4b_branch2a (Conv2D)         (None, 4, 4, 256)    262400      activation_615[0][0]             \n",
            "__________________________________________________________________________________________________\n",
            "bn4b_branch2a (BatchNormalizati (None, 4, 4, 256)    1024        res4b_branch2a[0][0]             \n",
            "__________________________________________________________________________________________________\n",
            "activation_616 (Activation)     (None, 4, 4, 256)    0           bn4b_branch2a[0][0]              \n",
            "__________________________________________________________________________________________________\n",
            "res4b_branch2b (Conv2D)         (None, 4, 4, 256)    590080      activation_616[0][0]             \n",
            "__________________________________________________________________________________________________\n",
            "bn4b_branch2b (BatchNormalizati (None, 4, 4, 256)    1024        res4b_branch2b[0][0]             \n",
            "__________________________________________________________________________________________________\n",
            "activation_617 (Activation)     (None, 4, 4, 256)    0           bn4b_branch2b[0][0]              \n",
            "__________________________________________________________________________________________________\n",
            "res4b_branch2c (Conv2D)         (None, 4, 4, 1024)   263168      activation_617[0][0]             \n",
            "__________________________________________________________________________________________________\n",
            "bn4b_branch2c (BatchNormalizati (None, 4, 4, 1024)   4096        res4b_branch2c[0][0]             \n",
            "__________________________________________________________________________________________________\n",
            "add_201 (Add)                   (None, 4, 4, 1024)   0           activation_615[0][0]             \n",
            "                                                                 bn4b_branch2c[0][0]              \n",
            "__________________________________________________________________________________________________\n",
            "activation_618 (Activation)     (None, 4, 4, 1024)   0           add_201[0][0]                    \n",
            "__________________________________________________________________________________________________\n",
            "res4c_branch2a (Conv2D)         (None, 4, 4, 256)    262400      activation_618[0][0]             \n",
            "__________________________________________________________________________________________________\n",
            "bn4c_branch2a (BatchNormalizati (None, 4, 4, 256)    1024        res4c_branch2a[0][0]             \n",
            "__________________________________________________________________________________________________\n",
            "activation_619 (Activation)     (None, 4, 4, 256)    0           bn4c_branch2a[0][0]              \n",
            "__________________________________________________________________________________________________\n",
            "res4c_branch2b (Conv2D)         (None, 4, 4, 256)    590080      activation_619[0][0]             \n",
            "__________________________________________________________________________________________________\n",
            "bn4c_branch2b (BatchNormalizati (None, 4, 4, 256)    1024        res4c_branch2b[0][0]             \n",
            "__________________________________________________________________________________________________\n",
            "activation_620 (Activation)     (None, 4, 4, 256)    0           bn4c_branch2b[0][0]              \n",
            "__________________________________________________________________________________________________\n",
            "res4c_branch2c (Conv2D)         (None, 4, 4, 1024)   263168      activation_620[0][0]             \n",
            "__________________________________________________________________________________________________\n",
            "bn4c_branch2c (BatchNormalizati (None, 4, 4, 1024)   4096        res4c_branch2c[0][0]             \n",
            "__________________________________________________________________________________________________\n",
            "add_202 (Add)                   (None, 4, 4, 1024)   0           activation_618[0][0]             \n",
            "                                                                 bn4c_branch2c[0][0]              \n",
            "__________________________________________________________________________________________________\n",
            "activation_621 (Activation)     (None, 4, 4, 1024)   0           add_202[0][0]                    \n",
            "__________________________________________________________________________________________________\n",
            "res4d_branch2a (Conv2D)         (None, 4, 4, 256)    262400      activation_621[0][0]             \n",
            "__________________________________________________________________________________________________\n",
            "bn4d_branch2a (BatchNormalizati (None, 4, 4, 256)    1024        res4d_branch2a[0][0]             \n",
            "__________________________________________________________________________________________________\n",
            "activation_622 (Activation)     (None, 4, 4, 256)    0           bn4d_branch2a[0][0]              \n",
            "__________________________________________________________________________________________________\n",
            "res4d_branch2b (Conv2D)         (None, 4, 4, 256)    590080      activation_622[0][0]             \n",
            "__________________________________________________________________________________________________\n",
            "bn4d_branch2b (BatchNormalizati (None, 4, 4, 256)    1024        res4d_branch2b[0][0]             \n",
            "__________________________________________________________________________________________________\n",
            "activation_623 (Activation)     (None, 4, 4, 256)    0           bn4d_branch2b[0][0]              \n",
            "__________________________________________________________________________________________________\n",
            "res4d_branch2c (Conv2D)         (None, 4, 4, 1024)   263168      activation_623[0][0]             \n",
            "__________________________________________________________________________________________________\n",
            "bn4d_branch2c (BatchNormalizati (None, 4, 4, 1024)   4096        res4d_branch2c[0][0]             \n",
            "__________________________________________________________________________________________________\n",
            "add_203 (Add)                   (None, 4, 4, 1024)   0           activation_621[0][0]             \n",
            "                                                                 bn4d_branch2c[0][0]              \n",
            "__________________________________________________________________________________________________\n",
            "activation_624 (Activation)     (None, 4, 4, 1024)   0           add_203[0][0]                    \n",
            "__________________________________________________________________________________________________\n",
            "res4e_branch2a (Conv2D)         (None, 4, 4, 256)    262400      activation_624[0][0]             \n",
            "__________________________________________________________________________________________________\n",
            "bn4e_branch2a (BatchNormalizati (None, 4, 4, 256)    1024        res4e_branch2a[0][0]             \n",
            "__________________________________________________________________________________________________\n",
            "activation_625 (Activation)     (None, 4, 4, 256)    0           bn4e_branch2a[0][0]              \n",
            "__________________________________________________________________________________________________\n",
            "res4e_branch2b (Conv2D)         (None, 4, 4, 256)    590080      activation_625[0][0]             \n",
            "__________________________________________________________________________________________________\n",
            "bn4e_branch2b (BatchNormalizati (None, 4, 4, 256)    1024        res4e_branch2b[0][0]             \n",
            "__________________________________________________________________________________________________\n",
            "activation_626 (Activation)     (None, 4, 4, 256)    0           bn4e_branch2b[0][0]              \n",
            "__________________________________________________________________________________________________\n",
            "res4e_branch2c (Conv2D)         (None, 4, 4, 1024)   263168      activation_626[0][0]             \n",
            "__________________________________________________________________________________________________\n",
            "bn4e_branch2c (BatchNormalizati (None, 4, 4, 1024)   4096        res4e_branch2c[0][0]             \n",
            "__________________________________________________________________________________________________\n",
            "add_204 (Add)                   (None, 4, 4, 1024)   0           activation_624[0][0]             \n",
            "                                                                 bn4e_branch2c[0][0]              \n",
            "__________________________________________________________________________________________________\n",
            "activation_627 (Activation)     (None, 4, 4, 1024)   0           add_204[0][0]                    \n",
            "__________________________________________________________________________________________________\n",
            "res4f_branch2a (Conv2D)         (None, 4, 4, 256)    262400      activation_627[0][0]             \n",
            "__________________________________________________________________________________________________\n",
            "bn4f_branch2a (BatchNormalizati (None, 4, 4, 256)    1024        res4f_branch2a[0][0]             \n",
            "__________________________________________________________________________________________________\n",
            "activation_628 (Activation)     (None, 4, 4, 256)    0           bn4f_branch2a[0][0]              \n",
            "__________________________________________________________________________________________________\n",
            "res4f_branch2b (Conv2D)         (None, 4, 4, 256)    590080      activation_628[0][0]             \n",
            "__________________________________________________________________________________________________\n",
            "bn4f_branch2b (BatchNormalizati (None, 4, 4, 256)    1024        res4f_branch2b[0][0]             \n",
            "__________________________________________________________________________________________________\n",
            "activation_629 (Activation)     (None, 4, 4, 256)    0           bn4f_branch2b[0][0]              \n",
            "__________________________________________________________________________________________________\n",
            "res4f_branch2c (Conv2D)         (None, 4, 4, 1024)   263168      activation_629[0][0]             \n",
            "__________________________________________________________________________________________________\n",
            "bn4f_branch2c (BatchNormalizati (None, 4, 4, 1024)   4096        res4f_branch2c[0][0]             \n",
            "__________________________________________________________________________________________________\n",
            "add_205 (Add)                   (None, 4, 4, 1024)   0           activation_627[0][0]             \n",
            "                                                                 bn4f_branch2c[0][0]              \n",
            "__________________________________________________________________________________________________\n",
            "activation_630 (Activation)     (None, 4, 4, 1024)   0           add_205[0][0]                    \n",
            "__________________________________________________________________________________________________\n",
            "res5a_branch2a (Conv2D)         (None, 2, 2, 512)    524800      activation_630[0][0]             \n",
            "__________________________________________________________________________________________________\n",
            "bn5a_branch2a (BatchNormalizati (None, 2, 2, 512)    2048        res5a_branch2a[0][0]             \n",
            "__________________________________________________________________________________________________\n",
            "activation_631 (Activation)     (None, 2, 2, 512)    0           bn5a_branch2a[0][0]              \n",
            "__________________________________________________________________________________________________\n",
            "res5a_branch2b (Conv2D)         (None, 2, 2, 512)    2359808     activation_631[0][0]             \n",
            "__________________________________________________________________________________________________\n",
            "bn5a_branch2b (BatchNormalizati (None, 2, 2, 512)    2048        res5a_branch2b[0][0]             \n",
            "__________________________________________________________________________________________________\n",
            "activation_632 (Activation)     (None, 2, 2, 512)    0           bn5a_branch2b[0][0]              \n",
            "__________________________________________________________________________________________________\n",
            "res5a_branch2c (Conv2D)         (None, 2, 2, 2048)   1050624     activation_632[0][0]             \n",
            "__________________________________________________________________________________________________\n",
            "res5a_branch1 (Conv2D)          (None, 2, 2, 2048)   2099200     activation_630[0][0]             \n",
            "__________________________________________________________________________________________________\n",
            "bn5a_branch2c (BatchNormalizati (None, 2, 2, 2048)   8192        res5a_branch2c[0][0]             \n",
            "__________________________________________________________________________________________________\n",
            "bn5a_branch1 (BatchNormalizatio (None, 2, 2, 2048)   8192        res5a_branch1[0][0]              \n",
            "__________________________________________________________________________________________________\n",
            "add_206 (Add)                   (None, 2, 2, 2048)   0           bn5a_branch2c[0][0]              \n",
            "                                                                 bn5a_branch1[0][0]               \n",
            "__________________________________________________________________________________________________\n",
            "activation_633 (Activation)     (None, 2, 2, 2048)   0           add_206[0][0]                    \n",
            "__________________________________________________________________________________________________\n",
            "res5b_branch2a (Conv2D)         (None, 2, 2, 512)    1049088     activation_633[0][0]             \n",
            "__________________________________________________________________________________________________\n",
            "bn5b_branch2a (BatchNormalizati (None, 2, 2, 512)    2048        res5b_branch2a[0][0]             \n",
            "__________________________________________________________________________________________________\n",
            "activation_634 (Activation)     (None, 2, 2, 512)    0           bn5b_branch2a[0][0]              \n",
            "__________________________________________________________________________________________________\n",
            "res5b_branch2b (Conv2D)         (None, 2, 2, 512)    2359808     activation_634[0][0]             \n",
            "__________________________________________________________________________________________________\n",
            "bn5b_branch2b (BatchNormalizati (None, 2, 2, 512)    2048        res5b_branch2b[0][0]             \n",
            "__________________________________________________________________________________________________\n",
            "activation_635 (Activation)     (None, 2, 2, 512)    0           bn5b_branch2b[0][0]              \n",
            "__________________________________________________________________________________________________\n",
            "res5b_branch2c (Conv2D)         (None, 2, 2, 2048)   1050624     activation_635[0][0]             \n",
            "__________________________________________________________________________________________________\n",
            "bn5b_branch2c (BatchNormalizati (None, 2, 2, 2048)   8192        res5b_branch2c[0][0]             \n",
            "__________________________________________________________________________________________________\n",
            "add_207 (Add)                   (None, 2, 2, 2048)   0           activation_633[0][0]             \n",
            "                                                                 bn5b_branch2c[0][0]              \n",
            "__________________________________________________________________________________________________\n",
            "activation_636 (Activation)     (None, 2, 2, 2048)   0           add_207[0][0]                    \n",
            "__________________________________________________________________________________________________\n",
            "res5c_branch2a (Conv2D)         (None, 2, 2, 512)    1049088     activation_636[0][0]             \n",
            "__________________________________________________________________________________________________\n",
            "bn5c_branch2a (BatchNormalizati (None, 2, 2, 512)    2048        res5c_branch2a[0][0]             \n",
            "__________________________________________________________________________________________________\n",
            "activation_637 (Activation)     (None, 2, 2, 512)    0           bn5c_branch2a[0][0]              \n",
            "__________________________________________________________________________________________________\n",
            "res5c_branch2b (Conv2D)         (None, 2, 2, 512)    2359808     activation_637[0][0]             \n",
            "__________________________________________________________________________________________________\n",
            "bn5c_branch2b (BatchNormalizati (None, 2, 2, 512)    2048        res5c_branch2b[0][0]             \n",
            "__________________________________________________________________________________________________\n",
            "activation_638 (Activation)     (None, 2, 2, 512)    0           bn5c_branch2b[0][0]              \n",
            "__________________________________________________________________________________________________\n",
            "res5c_branch2c (Conv2D)         (None, 2, 2, 2048)   1050624     activation_638[0][0]             \n",
            "__________________________________________________________________________________________________\n",
            "bn5c_branch2c (BatchNormalizati (None, 2, 2, 2048)   8192        res5c_branch2c[0][0]             \n",
            "__________________________________________________________________________________________________\n",
            "add_208 (Add)                   (None, 2, 2, 2048)   0           activation_636[0][0]             \n",
            "                                                                 bn5c_branch2c[0][0]              \n",
            "__________________________________________________________________________________________________\n",
            "activation_639 (Activation)     (None, 2, 2, 2048)   0           add_208[0][0]                    \n",
            "__________________________________________________________________________________________________\n",
            "avg_pool (AveragePooling2D)     (None, 1, 1, 2048)   0           activation_639[0][0]             \n",
            "__________________________________________________________________________________________________\n",
            "flatten_12 (Flatten)            (None, 2048)         0           avg_pool[0][0]                   \n",
            "__________________________________________________________________________________________________\n",
            "dense_5 (Dense)                 (None, 2)            4098        flatten_12[0][0]                 \n",
            "==================================================================================================\n",
            "Total params: 23,591,810\n",
            "Trainable params: 23,538,690\n",
            "Non-trainable params: 53,120\n",
            "__________________________________________________________________________________________________\n"
          ],
          "name": "stdout"
        }
      ]
    },
    {
      "cell_type": "code",
      "metadata": {
        "id": "YEig4nSgTvVg"
      },
      "source": [
        "#plot_model(mobile_net, to_file='model.png', show_shapes=True, show_layer_names=True)"
      ],
      "execution_count": null,
      "outputs": []
    },
    {
      "cell_type": "code",
      "metadata": {
        "colab": {
          "base_uri": "https://localhost:8080/"
        },
        "id": "_dLto1Ji5_JK",
        "outputId": "6d8989b9-84ff-44c5-9a03-1e4072c0951c"
      },
      "source": [
        "#train the model\n",
        "model.fit(\n",
        "    x_train,\n",
        "    y_train,\n",
        "    epochs=3,\n",
        "    batch_size=64\n",
        ")"
      ],
      "execution_count": null,
      "outputs": [
        {
          "output_type": "stream",
          "text": [
            "Epoch 1/3\n",
            "16/16 [==============================] - 151s 9s/step - loss: 0.6892 - accuracy: 0.7973\n",
            "Epoch 2/3\n",
            "16/16 [==============================] - 146s 9s/step - loss: 0.6734 - accuracy: 1.0000\n",
            "Epoch 3/3\n",
            "16/16 [==============================] - 147s 9s/step - loss: 0.6580 - accuracy: 1.0000\n"
          ],
          "name": "stdout"
        },
        {
          "output_type": "execute_result",
          "data": {
            "text/plain": [
              "<tensorflow.python.keras.callbacks.History at 0x7f0828ea4780>"
            ]
          },
          "metadata": {
            "tags": []
          },
          "execution_count": 98
        }
      ]
    },
    {
      "cell_type": "code",
      "metadata": {
        "colab": {
          "base_uri": "https://localhost:8080/"
        },
        "id": "dzIiZs845_Lx",
        "outputId": "5e7f52a6-677c-4222-e599-78b5c105a9ae"
      },
      "source": [
        "preds = model.evaluate(x_test, y_test)"
      ],
      "execution_count": null,
      "outputs": [
        {
          "output_type": "stream",
          "text": [
            "16/16 [==============================] - 8s 409ms/step - loss: 0.6075 - accuracy: 1.0000\n"
          ],
          "name": "stdout"
        }
      ]
    },
    {
      "cell_type": "code",
      "metadata": {
        "id": "hwyk0wUI5_jW"
      },
      "source": [
        ""
      ],
      "execution_count": null,
      "outputs": []
    },
    {
      "cell_type": "code",
      "metadata": {
        "id": "SV0HFiZA5_lf"
      },
      "source": [
        ""
      ],
      "execution_count": null,
      "outputs": []
    }
  ]
}